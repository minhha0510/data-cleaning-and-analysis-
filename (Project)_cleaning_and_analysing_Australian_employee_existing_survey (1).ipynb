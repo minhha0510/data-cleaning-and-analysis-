{
  "cells": [
    {
      "cell_type": "markdown",
      "source": [
        "# Executive summary \n",
        "\n",
        "In this project, I'll work with exit surveys from employees of the Department of Education, Training and Employment (DETE) and the Technical and Further Education (TAFE) institute in Queensland, Australia. You can find the TAFE exit survey [here](https://raw.githubusercontent.com/minhha0510/data-cleaning-and-analysis-/main/tafe_survey.csv) and the survey for the DETE [here](https://raw.githubusercontent.com/minhha0510/data-cleaning-and-analysis-/main/dete_survey.csv). "
      ],
      "metadata": {
        "id": "GI165NhBIfR2"
      }
    },
    {
      "cell_type": "markdown",
      "source": [
        "Goals¶\n",
        "In this project, I tried to answer the following question:\n",
        "- Are employees who only worked for the institutes for a short period of time resigning due to some kind of dissatisfaction? What about employees who have been there longer?\n",
        "\n",
        "- Are younger employees resigning due to some kind of dissatisfaction? What about older employees?\n",
        "\n",
        "__Summary of Results__\n",
        "The dissatisfaction distribution by age also seems to suggest that older people tend to renounce due to dissatisfaction more than younger people. The exception in the 26-30 group of people who also have high percentage of dissatisfied employees."
      ],
      "metadata": {
        "id": "Jaug8NmQKBpY"
      }
    },
    {
      "cell_type": "markdown",
      "source": [
        "# Data exploration"
      ],
      "metadata": {
        "id": "_ua7w39FLIfz"
      }
    },
    {
      "cell_type": "code",
      "execution_count": null,
      "metadata": {
        "id": "3UORnxDvIchP"
      },
      "outputs": [],
      "source": [
        "import pandas as pd\n",
        "import matplotlib.pyplot as plt\n",
        "import numpy as np\n",
        "import seaborn as sns\n",
        "url_dete_survey = \"https://raw.githubusercontent.com/minhha0510/data-cleaning-and-analysis-/main/dete_survey.csv\"\n",
        "url_tafe_survey = \"https://raw.githubusercontent.com/minhha0510/data-cleaning-and-analysis-/main/tafe_survey.csv\"\n",
        "dete_survey = pd.read_csv(url_dete_survey)\n",
        "tafe_survey = pd.read_csv(url_tafe_survey)"
      ]
    },
    {
      "cell_type": "code",
      "execution_count": null,
      "metadata": {
        "colab": {
          "base_uri": "https://localhost:8080/"
        },
        "id": "u8pbuWCyIchS",
        "outputId": "f440d4b7-cfb2-45ba-c0a8-83a06f2ba07a"
      },
      "outputs": [
        {
          "output_type": "execute_result",
          "data": {
            "text/plain": [
              "ID                                       0\n",
              "SeparationType                           0\n",
              "Cease Date                               0\n",
              "DETE Start Date                          0\n",
              "Role Start Date                          0\n",
              "Position                                 5\n",
              "Classification                         367\n",
              "Region                                   0\n",
              "Business Unit                          696\n",
              "Employment Status                        5\n",
              "Career move to public sector             0\n",
              "Career move to private sector            0\n",
              "Interpersonal conflicts                  0\n",
              "Job dissatisfaction                      0\n",
              "Dissatisfaction with the department      0\n",
              "Physical work environment                0\n",
              "Lack of recognition                      0\n",
              "Lack of job security                     0\n",
              "Work location                            0\n",
              "Employment conditions                    0\n",
              "Maternity/family                         0\n",
              "Relocation                               0\n",
              "Study/Travel                             0\n",
              "Ill Health                               0\n",
              "Traumatic incident                       0\n",
              "Work life balance                        0\n",
              "Workload                                 0\n",
              "None of the above                        0\n",
              "Professional Development                14\n",
              "Opportunities for promotion             87\n",
              "Staff morale                             6\n",
              "Workplace issue                         34\n",
              "Physical environment                     5\n",
              "Worklife balance                         7\n",
              "Stress and pressure support             12\n",
              "Performance of supervisor                9\n",
              "Peer support                            10\n",
              "Initiative                               9\n",
              "Skills                                  11\n",
              "Coach                                   55\n",
              "Career Aspirations                      76\n",
              "Feedback                                30\n",
              "Further PD                              54\n",
              "Communication                            8\n",
              "My say                                  10\n",
              "Information                              6\n",
              "Kept informed                            9\n",
              "Wellness programs                       56\n",
              "Health & Safety                         29\n",
              "Gender                                  24\n",
              "Age                                     11\n",
              "Aboriginal                             806\n",
              "Torres Strait                          819\n",
              "South Sea                              815\n",
              "Disability                             799\n",
              "NESB                                   790\n",
              "dtype: int64"
            ]
          },
          "metadata": {},
          "execution_count": 2
        }
      ],
      "source": [
        "dete_survey.isnull().sum()"
      ]
    },
    {
      "cell_type": "code",
      "execution_count": null,
      "metadata": {
        "colab": {
          "base_uri": "https://localhost:8080/",
          "height": 416
        },
        "id": "xAk0FZ5VIchT",
        "outputId": "6ad872a2-871c-4f97-bf7f-e62dda586169"
      },
      "outputs": [
        {
          "output_type": "execute_result",
          "data": {
            "text/html": [
              "\n",
              "  <div id=\"df-7c6b61a2-f6d0-4a91-8838-8829e5314469\">\n",
              "    <div class=\"colab-df-container\">\n",
              "      <div>\n",
              "<style scoped>\n",
              "    .dataframe tbody tr th:only-of-type {\n",
              "        vertical-align: middle;\n",
              "    }\n",
              "\n",
              "    .dataframe tbody tr th {\n",
              "        vertical-align: top;\n",
              "    }\n",
              "\n",
              "    .dataframe thead th {\n",
              "        text-align: right;\n",
              "    }\n",
              "</style>\n",
              "<table border=\"1\" class=\"dataframe\">\n",
              "  <thead>\n",
              "    <tr style=\"text-align: right;\">\n",
              "      <th></th>\n",
              "      <th>ID</th>\n",
              "      <th>SeparationType</th>\n",
              "      <th>Cease Date</th>\n",
              "      <th>DETE Start Date</th>\n",
              "      <th>Role Start Date</th>\n",
              "      <th>Position</th>\n",
              "      <th>Classification</th>\n",
              "      <th>Region</th>\n",
              "      <th>Business Unit</th>\n",
              "      <th>Employment Status</th>\n",
              "      <th>Career move to public sector</th>\n",
              "      <th>Career move to private sector</th>\n",
              "      <th>Interpersonal conflicts</th>\n",
              "      <th>Job dissatisfaction</th>\n",
              "      <th>Dissatisfaction with the department</th>\n",
              "      <th>Physical work environment</th>\n",
              "      <th>Lack of recognition</th>\n",
              "      <th>Lack of job security</th>\n",
              "      <th>Work location</th>\n",
              "      <th>Employment conditions</th>\n",
              "      <th>Maternity/family</th>\n",
              "      <th>Relocation</th>\n",
              "      <th>Study/Travel</th>\n",
              "      <th>Ill Health</th>\n",
              "      <th>Traumatic incident</th>\n",
              "      <th>Work life balance</th>\n",
              "      <th>Workload</th>\n",
              "      <th>None of the above</th>\n",
              "      <th>Professional Development</th>\n",
              "      <th>Opportunities for promotion</th>\n",
              "      <th>Staff morale</th>\n",
              "      <th>Workplace issue</th>\n",
              "      <th>Physical environment</th>\n",
              "      <th>Worklife balance</th>\n",
              "      <th>Stress and pressure support</th>\n",
              "      <th>Performance of supervisor</th>\n",
              "      <th>Peer support</th>\n",
              "      <th>Initiative</th>\n",
              "      <th>Skills</th>\n",
              "      <th>Coach</th>\n",
              "      <th>Career Aspirations</th>\n",
              "      <th>Feedback</th>\n",
              "      <th>Further PD</th>\n",
              "      <th>Communication</th>\n",
              "      <th>My say</th>\n",
              "      <th>Information</th>\n",
              "      <th>Kept informed</th>\n",
              "      <th>Wellness programs</th>\n",
              "      <th>Health &amp; Safety</th>\n",
              "      <th>Gender</th>\n",
              "      <th>Age</th>\n",
              "      <th>Aboriginal</th>\n",
              "      <th>Torres Strait</th>\n",
              "      <th>South Sea</th>\n",
              "      <th>Disability</th>\n",
              "      <th>NESB</th>\n",
              "    </tr>\n",
              "  </thead>\n",
              "  <tbody>\n",
              "    <tr>\n",
              "      <th>0</th>\n",
              "      <td>1</td>\n",
              "      <td>Ill Health Retirement</td>\n",
              "      <td>08/2012</td>\n",
              "      <td>1984</td>\n",
              "      <td>2004</td>\n",
              "      <td>Public Servant</td>\n",
              "      <td>A01-A04</td>\n",
              "      <td>Central Office</td>\n",
              "      <td>Corporate Strategy and Peformance</td>\n",
              "      <td>Permanent Full-time</td>\n",
              "      <td>True</td>\n",
              "      <td>False</td>\n",
              "      <td>False</td>\n",
              "      <td>True</td>\n",
              "      <td>False</td>\n",
              "      <td>False</td>\n",
              "      <td>True</td>\n",
              "      <td>False</td>\n",
              "      <td>False</td>\n",
              "      <td>False</td>\n",
              "      <td>False</td>\n",
              "      <td>False</td>\n",
              "      <td>False</td>\n",
              "      <td>False</td>\n",
              "      <td>False</td>\n",
              "      <td>False</td>\n",
              "      <td>False</td>\n",
              "      <td>True</td>\n",
              "      <td>A</td>\n",
              "      <td>A</td>\n",
              "      <td>N</td>\n",
              "      <td>N</td>\n",
              "      <td>N</td>\n",
              "      <td>A</td>\n",
              "      <td>A</td>\n",
              "      <td>A</td>\n",
              "      <td>A</td>\n",
              "      <td>N</td>\n",
              "      <td>N</td>\n",
              "      <td>N</td>\n",
              "      <td>A</td>\n",
              "      <td>A</td>\n",
              "      <td>A</td>\n",
              "      <td>N</td>\n",
              "      <td>A</td>\n",
              "      <td>A</td>\n",
              "      <td>N</td>\n",
              "      <td>N</td>\n",
              "      <td>N</td>\n",
              "      <td>Male</td>\n",
              "      <td>56-60</td>\n",
              "      <td>NaN</td>\n",
              "      <td>NaN</td>\n",
              "      <td>NaN</td>\n",
              "      <td>NaN</td>\n",
              "      <td>Yes</td>\n",
              "    </tr>\n",
              "    <tr>\n",
              "      <th>1</th>\n",
              "      <td>2</td>\n",
              "      <td>Voluntary Early Retirement (VER)</td>\n",
              "      <td>08/2012</td>\n",
              "      <td>Not Stated</td>\n",
              "      <td>Not Stated</td>\n",
              "      <td>Public Servant</td>\n",
              "      <td>AO5-AO7</td>\n",
              "      <td>Central Office</td>\n",
              "      <td>Corporate Strategy and Peformance</td>\n",
              "      <td>Permanent Full-time</td>\n",
              "      <td>False</td>\n",
              "      <td>False</td>\n",
              "      <td>False</td>\n",
              "      <td>False</td>\n",
              "      <td>False</td>\n",
              "      <td>False</td>\n",
              "      <td>False</td>\n",
              "      <td>False</td>\n",
              "      <td>False</td>\n",
              "      <td>False</td>\n",
              "      <td>False</td>\n",
              "      <td>False</td>\n",
              "      <td>False</td>\n",
              "      <td>False</td>\n",
              "      <td>False</td>\n",
              "      <td>False</td>\n",
              "      <td>False</td>\n",
              "      <td>False</td>\n",
              "      <td>A</td>\n",
              "      <td>A</td>\n",
              "      <td>N</td>\n",
              "      <td>N</td>\n",
              "      <td>N</td>\n",
              "      <td>N</td>\n",
              "      <td>A</td>\n",
              "      <td>A</td>\n",
              "      <td>A</td>\n",
              "      <td>N</td>\n",
              "      <td>N</td>\n",
              "      <td>N</td>\n",
              "      <td>A</td>\n",
              "      <td>A</td>\n",
              "      <td>A</td>\n",
              "      <td>N</td>\n",
              "      <td>A</td>\n",
              "      <td>A</td>\n",
              "      <td>N</td>\n",
              "      <td>N</td>\n",
              "      <td>N</td>\n",
              "      <td>Male</td>\n",
              "      <td>56-60</td>\n",
              "      <td>NaN</td>\n",
              "      <td>NaN</td>\n",
              "      <td>NaN</td>\n",
              "      <td>NaN</td>\n",
              "      <td>NaN</td>\n",
              "    </tr>\n",
              "    <tr>\n",
              "      <th>2</th>\n",
              "      <td>3</td>\n",
              "      <td>Voluntary Early Retirement (VER)</td>\n",
              "      <td>05/2012</td>\n",
              "      <td>2011</td>\n",
              "      <td>2011</td>\n",
              "      <td>Schools Officer</td>\n",
              "      <td>NaN</td>\n",
              "      <td>Central Office</td>\n",
              "      <td>Education Queensland</td>\n",
              "      <td>Permanent Full-time</td>\n",
              "      <td>False</td>\n",
              "      <td>False</td>\n",
              "      <td>False</td>\n",
              "      <td>False</td>\n",
              "      <td>False</td>\n",
              "      <td>False</td>\n",
              "      <td>False</td>\n",
              "      <td>False</td>\n",
              "      <td>False</td>\n",
              "      <td>False</td>\n",
              "      <td>False</td>\n",
              "      <td>False</td>\n",
              "      <td>False</td>\n",
              "      <td>False</td>\n",
              "      <td>False</td>\n",
              "      <td>False</td>\n",
              "      <td>False</td>\n",
              "      <td>True</td>\n",
              "      <td>N</td>\n",
              "      <td>N</td>\n",
              "      <td>N</td>\n",
              "      <td>N</td>\n",
              "      <td>N</td>\n",
              "      <td>N</td>\n",
              "      <td>N</td>\n",
              "      <td>N</td>\n",
              "      <td>N</td>\n",
              "      <td>N</td>\n",
              "      <td>N</td>\n",
              "      <td>N</td>\n",
              "      <td>N</td>\n",
              "      <td>N</td>\n",
              "      <td>N</td>\n",
              "      <td>A</td>\n",
              "      <td>A</td>\n",
              "      <td>N</td>\n",
              "      <td>N</td>\n",
              "      <td>N</td>\n",
              "      <td>N</td>\n",
              "      <td>Male</td>\n",
              "      <td>61 or older</td>\n",
              "      <td>NaN</td>\n",
              "      <td>NaN</td>\n",
              "      <td>NaN</td>\n",
              "      <td>NaN</td>\n",
              "      <td>NaN</td>\n",
              "    </tr>\n",
              "  </tbody>\n",
              "</table>\n",
              "</div>\n",
              "      <button class=\"colab-df-convert\" onclick=\"convertToInteractive('df-7c6b61a2-f6d0-4a91-8838-8829e5314469')\"\n",
              "              title=\"Convert this dataframe to an interactive table.\"\n",
              "              style=\"display:none;\">\n",
              "        \n",
              "  <svg xmlns=\"http://www.w3.org/2000/svg\" height=\"24px\"viewBox=\"0 0 24 24\"\n",
              "       width=\"24px\">\n",
              "    <path d=\"M0 0h24v24H0V0z\" fill=\"none\"/>\n",
              "    <path d=\"M18.56 5.44l.94 2.06.94-2.06 2.06-.94-2.06-.94-.94-2.06-.94 2.06-2.06.94zm-11 1L8.5 8.5l.94-2.06 2.06-.94-2.06-.94L8.5 2.5l-.94 2.06-2.06.94zm10 10l.94 2.06.94-2.06 2.06-.94-2.06-.94-.94-2.06-.94 2.06-2.06.94z\"/><path d=\"M17.41 7.96l-1.37-1.37c-.4-.4-.92-.59-1.43-.59-.52 0-1.04.2-1.43.59L10.3 9.45l-7.72 7.72c-.78.78-.78 2.05 0 2.83L4 21.41c.39.39.9.59 1.41.59.51 0 1.02-.2 1.41-.59l7.78-7.78 2.81-2.81c.8-.78.8-2.07 0-2.86zM5.41 20L4 18.59l7.72-7.72 1.47 1.35L5.41 20z\"/>\n",
              "  </svg>\n",
              "      </button>\n",
              "      \n",
              "  <style>\n",
              "    .colab-df-container {\n",
              "      display:flex;\n",
              "      flex-wrap:wrap;\n",
              "      gap: 12px;\n",
              "    }\n",
              "\n",
              "    .colab-df-convert {\n",
              "      background-color: #E8F0FE;\n",
              "      border: none;\n",
              "      border-radius: 50%;\n",
              "      cursor: pointer;\n",
              "      display: none;\n",
              "      fill: #1967D2;\n",
              "      height: 32px;\n",
              "      padding: 0 0 0 0;\n",
              "      width: 32px;\n",
              "    }\n",
              "\n",
              "    .colab-df-convert:hover {\n",
              "      background-color: #E2EBFA;\n",
              "      box-shadow: 0px 1px 2px rgba(60, 64, 67, 0.3), 0px 1px 3px 1px rgba(60, 64, 67, 0.15);\n",
              "      fill: #174EA6;\n",
              "    }\n",
              "\n",
              "    [theme=dark] .colab-df-convert {\n",
              "      background-color: #3B4455;\n",
              "      fill: #D2E3FC;\n",
              "    }\n",
              "\n",
              "    [theme=dark] .colab-df-convert:hover {\n",
              "      background-color: #434B5C;\n",
              "      box-shadow: 0px 1px 3px 1px rgba(0, 0, 0, 0.15);\n",
              "      filter: drop-shadow(0px 1px 2px rgba(0, 0, 0, 0.3));\n",
              "      fill: #FFFFFF;\n",
              "    }\n",
              "  </style>\n",
              "\n",
              "      <script>\n",
              "        const buttonEl =\n",
              "          document.querySelector('#df-7c6b61a2-f6d0-4a91-8838-8829e5314469 button.colab-df-convert');\n",
              "        buttonEl.style.display =\n",
              "          google.colab.kernel.accessAllowed ? 'block' : 'none';\n",
              "\n",
              "        async function convertToInteractive(key) {\n",
              "          const element = document.querySelector('#df-7c6b61a2-f6d0-4a91-8838-8829e5314469');\n",
              "          const dataTable =\n",
              "            await google.colab.kernel.invokeFunction('convertToInteractive',\n",
              "                                                     [key], {});\n",
              "          if (!dataTable) return;\n",
              "\n",
              "          const docLinkHtml = 'Like what you see? Visit the ' +\n",
              "            '<a target=\"_blank\" href=https://colab.research.google.com/notebooks/data_table.ipynb>data table notebook</a>'\n",
              "            + ' to learn more about interactive tables.';\n",
              "          element.innerHTML = '';\n",
              "          dataTable['output_type'] = 'display_data';\n",
              "          await google.colab.output.renderOutput(dataTable, element);\n",
              "          const docLink = document.createElement('div');\n",
              "          docLink.innerHTML = docLinkHtml;\n",
              "          element.appendChild(docLink);\n",
              "        }\n",
              "      </script>\n",
              "    </div>\n",
              "  </div>\n",
              "  "
            ],
            "text/plain": [
              "   ID                    SeparationType Cease Date  ... South Sea Disability NESB\n",
              "0   1             Ill Health Retirement    08/2012  ...       NaN        NaN  Yes\n",
              "1   2  Voluntary Early Retirement (VER)    08/2012  ...       NaN        NaN  NaN\n",
              "2   3  Voluntary Early Retirement (VER)    05/2012  ...       NaN        NaN  NaN\n",
              "\n",
              "[3 rows x 56 columns]"
            ]
          },
          "metadata": {},
          "execution_count": 3
        }
      ],
      "source": [
        "dete_survey.head(3)"
      ]
    },
    {
      "cell_type": "code",
      "execution_count": null,
      "metadata": {
        "colab": {
          "base_uri": "https://localhost:8080/"
        },
        "id": "7S5LPv__IchU",
        "outputId": "610d23d0-10be-448f-b09a-6f47f482590d"
      },
      "outputs": [
        {
          "output_type": "stream",
          "name": "stdout",
          "text": [
            "<class 'pandas.core.frame.DataFrame'>\n",
            "RangeIndex: 822 entries, 0 to 821\n",
            "Data columns (total 56 columns):\n",
            " #   Column                               Non-Null Count  Dtype \n",
            "---  ------                               --------------  ----- \n",
            " 0   ID                                   822 non-null    int64 \n",
            " 1   SeparationType                       822 non-null    object\n",
            " 2   Cease Date                           822 non-null    object\n",
            " 3   DETE Start Date                      822 non-null    object\n",
            " 4   Role Start Date                      822 non-null    object\n",
            " 5   Position                             817 non-null    object\n",
            " 6   Classification                       455 non-null    object\n",
            " 7   Region                               822 non-null    object\n",
            " 8   Business Unit                        126 non-null    object\n",
            " 9   Employment Status                    817 non-null    object\n",
            " 10  Career move to public sector         822 non-null    bool  \n",
            " 11  Career move to private sector        822 non-null    bool  \n",
            " 12  Interpersonal conflicts              822 non-null    bool  \n",
            " 13  Job dissatisfaction                  822 non-null    bool  \n",
            " 14  Dissatisfaction with the department  822 non-null    bool  \n",
            " 15  Physical work environment            822 non-null    bool  \n",
            " 16  Lack of recognition                  822 non-null    bool  \n",
            " 17  Lack of job security                 822 non-null    bool  \n",
            " 18  Work location                        822 non-null    bool  \n",
            " 19  Employment conditions                822 non-null    bool  \n",
            " 20  Maternity/family                     822 non-null    bool  \n",
            " 21  Relocation                           822 non-null    bool  \n",
            " 22  Study/Travel                         822 non-null    bool  \n",
            " 23  Ill Health                           822 non-null    bool  \n",
            " 24  Traumatic incident                   822 non-null    bool  \n",
            " 25  Work life balance                    822 non-null    bool  \n",
            " 26  Workload                             822 non-null    bool  \n",
            " 27  None of the above                    822 non-null    bool  \n",
            " 28  Professional Development             808 non-null    object\n",
            " 29  Opportunities for promotion          735 non-null    object\n",
            " 30  Staff morale                         816 non-null    object\n",
            " 31  Workplace issue                      788 non-null    object\n",
            " 32  Physical environment                 817 non-null    object\n",
            " 33  Worklife balance                     815 non-null    object\n",
            " 34  Stress and pressure support          810 non-null    object\n",
            " 35  Performance of supervisor            813 non-null    object\n",
            " 36  Peer support                         812 non-null    object\n",
            " 37  Initiative                           813 non-null    object\n",
            " 38  Skills                               811 non-null    object\n",
            " 39  Coach                                767 non-null    object\n",
            " 40  Career Aspirations                   746 non-null    object\n",
            " 41  Feedback                             792 non-null    object\n",
            " 42  Further PD                           768 non-null    object\n",
            " 43  Communication                        814 non-null    object\n",
            " 44  My say                               812 non-null    object\n",
            " 45  Information                          816 non-null    object\n",
            " 46  Kept informed                        813 non-null    object\n",
            " 47  Wellness programs                    766 non-null    object\n",
            " 48  Health & Safety                      793 non-null    object\n",
            " 49  Gender                               798 non-null    object\n",
            " 50  Age                                  811 non-null    object\n",
            " 51  Aboriginal                           16 non-null     object\n",
            " 52  Torres Strait                        3 non-null      object\n",
            " 53  South Sea                            7 non-null      object\n",
            " 54  Disability                           23 non-null     object\n",
            " 55  NESB                                 32 non-null     object\n",
            "dtypes: bool(18), int64(1), object(37)\n",
            "memory usage: 258.6+ KB\n"
          ]
        }
      ],
      "source": [
        "dete_survey.info()"
      ]
    },
    {
      "cell_type": "markdown",
      "metadata": {
        "id": "vaB9HZs2IchU"
      },
      "source": [
        "The business unit missing a huge chunks of dete_survey. It could be correlated to the time employment of an employee."
      ]
    },
    {
      "cell_type": "code",
      "execution_count": null,
      "metadata": {
        "colab": {
          "base_uri": "https://localhost:8080/"
        },
        "id": "ICzQEVd1IchV",
        "outputId": "514d93c6-288f-400f-98df-ae65d163a680"
      },
      "outputs": [
        {
          "output_type": "stream",
          "name": "stdout",
          "text": [
            "<class 'pandas.core.frame.DataFrame'>\n",
            "RangeIndex: 702 entries, 0 to 701\n",
            "Data columns (total 72 columns):\n",
            " #   Column                                                                                                                                                         Non-Null Count  Dtype  \n",
            "---  ------                                                                                                                                                         --------------  -----  \n",
            " 0   Record ID                                                                                                                                                      702 non-null    float64\n",
            " 1   Institute                                                                                                                                                      702 non-null    object \n",
            " 2   WorkArea                                                                                                                                                       702 non-null    object \n",
            " 3   CESSATION YEAR                                                                                                                                                 695 non-null    float64\n",
            " 4   Reason for ceasing employment                                                                                                                                  701 non-null    object \n",
            " 5   Contributing Factors. Career Move - Public Sector                                                                                                              437 non-null    object \n",
            " 6   Contributing Factors. Career Move - Private Sector                                                                                                             437 non-null    object \n",
            " 7   Contributing Factors. Career Move - Self-employment                                                                                                            437 non-null    object \n",
            " 8   Contributing Factors. Ill Health                                                                                                                               437 non-null    object \n",
            " 9   Contributing Factors. Maternity/Family                                                                                                                         437 non-null    object \n",
            " 10  Contributing Factors. Dissatisfaction                                                                                                                          437 non-null    object \n",
            " 11  Contributing Factors. Job Dissatisfaction                                                                                                                      437 non-null    object \n",
            " 12  Contributing Factors. Interpersonal Conflict                                                                                                                   437 non-null    object \n",
            " 13  Contributing Factors. Study                                                                                                                                    437 non-null    object \n",
            " 14  Contributing Factors. Travel                                                                                                                                   437 non-null    object \n",
            " 15  Contributing Factors. Other                                                                                                                                    437 non-null    object \n",
            " 16  Contributing Factors. NONE                                                                                                                                     437 non-null    object \n",
            " 17  Main Factor. Which of these was the main factor for leaving?                                                                                                   113 non-null    object \n",
            " 18  InstituteViews. Topic:1. I feel the senior leadership had a clear vision and direction                                                                         608 non-null    object \n",
            " 19  InstituteViews. Topic:2. I was given access to skills training to help me do my job better                                                                     613 non-null    object \n",
            " 20  InstituteViews. Topic:3. I was given adequate opportunities for personal development                                                                           610 non-null    object \n",
            " 21  InstituteViews. Topic:4. I was given adequate opportunities for promotion within %Institute]Q25LBL%                                                            608 non-null    object \n",
            " 22  InstituteViews. Topic:5. I felt the salary for the job was right for the responsibilities I had                                                                615 non-null    object \n",
            " 23  InstituteViews. Topic:6. The organisation recognised when staff did good work                                                                                  607 non-null    object \n",
            " 24  InstituteViews. Topic:7. Management was generally supportive of me                                                                                             614 non-null    object \n",
            " 25  InstituteViews. Topic:8. Management was generally supportive of my team                                                                                        608 non-null    object \n",
            " 26  InstituteViews. Topic:9. I was kept informed of the changes in the organisation which would affect me                                                          610 non-null    object \n",
            " 27  InstituteViews. Topic:10. Staff morale was positive within the Institute                                                                                       602 non-null    object \n",
            " 28  InstituteViews. Topic:11. If I had a workplace issue it was dealt with quickly                                                                                 601 non-null    object \n",
            " 29  InstituteViews. Topic:12. If I had a workplace issue it was dealt with efficiently                                                                             597 non-null    object \n",
            " 30  InstituteViews. Topic:13. If I had a workplace issue it was dealt with discreetly                                                                              601 non-null    object \n",
            " 31  WorkUnitViews. Topic:14. I was satisfied with the quality of the management and supervision within my work unit                                                609 non-null    object \n",
            " 32  WorkUnitViews. Topic:15. I worked well with my colleagues                                                                                                      605 non-null    object \n",
            " 33  WorkUnitViews. Topic:16. My job was challenging and interesting                                                                                                607 non-null    object \n",
            " 34  WorkUnitViews. Topic:17. I was encouraged to use my initiative in the course of my work                                                                        610 non-null    object \n",
            " 35  WorkUnitViews. Topic:18. I had sufficient contact with other people in my job                                                                                  613 non-null    object \n",
            " 36  WorkUnitViews. Topic:19. I was given adequate support and co-operation by my peers to enable me to do my job                                                   609 non-null    object \n",
            " 37  WorkUnitViews. Topic:20. I was able to use the full range of my skills in my job                                                                               609 non-null    object \n",
            " 38  WorkUnitViews. Topic:21. I was able to use the full range of my abilities in my job. ; Category:Level of Agreement; Question:YOUR VIEWS ABOUT YOUR WORK UNIT]  608 non-null    object \n",
            " 39  WorkUnitViews. Topic:22. I was able to use the full range of my knowledge in my job                                                                            608 non-null    object \n",
            " 40  WorkUnitViews. Topic:23. My job provided sufficient variety                                                                                                    611 non-null    object \n",
            " 41  WorkUnitViews. Topic:24. I was able to cope with the level of stress and pressure in my job                                                                    610 non-null    object \n",
            " 42  WorkUnitViews. Topic:25. My job allowed me to balance the demands of work and family to my satisfaction                                                        611 non-null    object \n",
            " 43  WorkUnitViews. Topic:26. My supervisor gave me adequate personal recognition and feedback on my performance                                                    606 non-null    object \n",
            " 44  WorkUnitViews. Topic:27. My working environment was satisfactory e.g. sufficient space, good lighting, suitable seating and working area                       610 non-null    object \n",
            " 45  WorkUnitViews. Topic:28. I was given the opportunity to mentor and coach others in order for me to pass on my skills and knowledge prior to my cessation date  609 non-null    object \n",
            " 46  WorkUnitViews. Topic:29. There was adequate communication between staff in my unit                                                                             603 non-null    object \n",
            " 47  WorkUnitViews. Topic:30. Staff morale was positive within my work unit                                                                                         606 non-null    object \n",
            " 48  Induction. Did you undertake Workplace Induction?                                                                                                              619 non-null    object \n",
            " 49  InductionInfo. Topic:Did you undertake a Corporate Induction?                                                                                                  432 non-null    object \n",
            " 50  InductionInfo. Topic:Did you undertake a Institute Induction?                                                                                                  483 non-null    object \n",
            " 51  InductionInfo. Topic: Did you undertake Team Induction?                                                                                                        440 non-null    object \n",
            " 52  InductionInfo. Face to Face Topic:Did you undertake a Corporate Induction; Category:How it was conducted?                                                      555 non-null    object \n",
            " 53  InductionInfo. On-line Topic:Did you undertake a Corporate Induction; Category:How it was conducted?                                                           555 non-null    object \n",
            " 54  InductionInfo. Induction Manual Topic:Did you undertake a Corporate Induction?                                                                                 555 non-null    object \n",
            " 55  InductionInfo. Face to Face Topic:Did you undertake a Institute Induction?                                                                                     530 non-null    object \n",
            " 56  InductionInfo. On-line Topic:Did you undertake a Institute Induction?                                                                                          555 non-null    object \n",
            " 57  InductionInfo. Induction Manual Topic:Did you undertake a Institute Induction?                                                                                 553 non-null    object \n",
            " 58  InductionInfo. Face to Face Topic: Did you undertake Team Induction; Category?                                                                                 555 non-null    object \n",
            " 59  InductionInfo. On-line Topic: Did you undertake Team Induction?process you undertook and how it was conducted.]                                                555 non-null    object \n",
            " 60  InductionInfo. Induction Manual Topic: Did you undertake Team Induction?                                                                                       555 non-null    object \n",
            " 61  Workplace. Topic:Did you and your Manager develop a Performance and Professional Development Plan (PPDP)?                                                      608 non-null    object \n",
            " 62  Workplace. Topic:Does your workplace promote a work culture free from all forms of unlawful discrimination?                                                    594 non-null    object \n",
            " 63  Workplace. Topic:Does your workplace promote and practice the principles of employment equity?                                                                 587 non-null    object \n",
            " 64  Workplace. Topic:Does your workplace value the diversity of its employees?                                                                                     586 non-null    object \n",
            " 65  Workplace. Topic:Would you recommend the Institute as an employer to others?                                                                                   581 non-null    object \n",
            " 66  Gender. What is your Gender?                                                                                                                                   596 non-null    object \n",
            " 67  CurrentAge. Current Age                                                                                                                                        596 non-null    object \n",
            " 68  Employment Type. Employment Type                                                                                                                               596 non-null    object \n",
            " 69  Classification. Classification                                                                                                                                 596 non-null    object \n",
            " 70  LengthofServiceOverall. Overall Length of Service at Institute (in years)                                                                                      596 non-null    object \n",
            " 71  LengthofServiceCurrent. Length of Service at current workplace (in years)                                                                                      596 non-null    object \n",
            "dtypes: float64(2), object(70)\n",
            "memory usage: 395.0+ KB\n"
          ]
        }
      ],
      "source": [
        "tafe_survey.head()\n",
        "tafe_survey.info()"
      ]
    },
    {
      "cell_type": "code",
      "execution_count": null,
      "metadata": {
        "colab": {
          "base_uri": "https://localhost:8080/"
        },
        "id": "l5TEhvS5IchW",
        "outputId": "6e28386a-4871-4146-cde5-8e27258e22dc"
      },
      "outputs": [
        {
          "output_type": "stream",
          "name": "stdout",
          "text": [
            "<class 'pandas.core.frame.DataFrame'>\n",
            "RangeIndex: 822 entries, 0 to 821\n",
            "Data columns (total 56 columns):\n",
            " #   Column                               Non-Null Count  Dtype \n",
            "---  ------                               --------------  ----- \n",
            " 0   ID                                   822 non-null    int64 \n",
            " 1   SeparationType                       822 non-null    object\n",
            " 2   Cease Date                           822 non-null    object\n",
            " 3   DETE Start Date                      822 non-null    object\n",
            " 4   Role Start Date                      822 non-null    object\n",
            " 5   Position                             817 non-null    object\n",
            " 6   Classification                       455 non-null    object\n",
            " 7   Region                               822 non-null    object\n",
            " 8   Business Unit                        126 non-null    object\n",
            " 9   Employment Status                    817 non-null    object\n",
            " 10  Career move to public sector         822 non-null    bool  \n",
            " 11  Career move to private sector        822 non-null    bool  \n",
            " 12  Interpersonal conflicts              822 non-null    bool  \n",
            " 13  Job dissatisfaction                  822 non-null    bool  \n",
            " 14  Dissatisfaction with the department  822 non-null    bool  \n",
            " 15  Physical work environment            822 non-null    bool  \n",
            " 16  Lack of recognition                  822 non-null    bool  \n",
            " 17  Lack of job security                 822 non-null    bool  \n",
            " 18  Work location                        822 non-null    bool  \n",
            " 19  Employment conditions                822 non-null    bool  \n",
            " 20  Maternity/family                     822 non-null    bool  \n",
            " 21  Relocation                           822 non-null    bool  \n",
            " 22  Study/Travel                         822 non-null    bool  \n",
            " 23  Ill Health                           822 non-null    bool  \n",
            " 24  Traumatic incident                   822 non-null    bool  \n",
            " 25  Work life balance                    822 non-null    bool  \n",
            " 26  Workload                             822 non-null    bool  \n",
            " 27  None of the above                    822 non-null    bool  \n",
            " 28  Professional Development             808 non-null    object\n",
            " 29  Opportunities for promotion          735 non-null    object\n",
            " 30  Staff morale                         816 non-null    object\n",
            " 31  Workplace issue                      788 non-null    object\n",
            " 32  Physical environment                 817 non-null    object\n",
            " 33  Worklife balance                     815 non-null    object\n",
            " 34  Stress and pressure support          810 non-null    object\n",
            " 35  Performance of supervisor            813 non-null    object\n",
            " 36  Peer support                         812 non-null    object\n",
            " 37  Initiative                           813 non-null    object\n",
            " 38  Skills                               811 non-null    object\n",
            " 39  Coach                                767 non-null    object\n",
            " 40  Career Aspirations                   746 non-null    object\n",
            " 41  Feedback                             792 non-null    object\n",
            " 42  Further PD                           768 non-null    object\n",
            " 43  Communication                        814 non-null    object\n",
            " 44  My say                               812 non-null    object\n",
            " 45  Information                          816 non-null    object\n",
            " 46  Kept informed                        813 non-null    object\n",
            " 47  Wellness programs                    766 non-null    object\n",
            " 48  Health & Safety                      793 non-null    object\n",
            " 49  Gender                               798 non-null    object\n",
            " 50  Age                                  811 non-null    object\n",
            " 51  Aboriginal                           16 non-null     object\n",
            " 52  Torres Strait                        3 non-null      object\n",
            " 53  South Sea                            7 non-null      object\n",
            " 54  Disability                           23 non-null     object\n",
            " 55  NESB                                 32 non-null     object\n",
            "dtypes: bool(18), int64(1), object(37)\n",
            "memory usage: 258.6+ KB\n"
          ]
        }
      ],
      "source": [
        "dete_survey.info()"
      ]
    },
    {
      "cell_type": "markdown",
      "metadata": {
        "id": "TbG0YMB8IchX"
      },
      "source": [
        "In this project, I tried to answer the following question:\n",
        "1. Are employees who only worked for the institutes for __a short period of time__ resigning due to some kind of __dissatisfaction__? What about employees who have been there __longer__?\n",
        "\n",
        "2. __Are younger employees resigning due to some kind of dissatisfaction? What about older employees?__"
      ]
    },
    {
      "cell_type": "code",
      "execution_count": null,
      "metadata": {
        "colab": {
          "base_uri": "https://localhost:8080/"
        },
        "id": "ckYMUPi5IchX",
        "outputId": "49c75166-b708-437c-b24b-f045725b4a2b"
      },
      "outputs": [
        {
          "output_type": "execute_result",
          "data": {
            "text/plain": [
              "Index(['Professional Development', 'Opportunities for promotion',\n",
              "       'Staff morale', 'Workplace issue', 'Physical environment',\n",
              "       'Worklife balance', 'Stress and pressure support',\n",
              "       'Performance of supervisor', 'Peer support', 'Initiative', 'Skills',\n",
              "       'Coach', 'Career Aspirations', 'Feedback', 'Further PD',\n",
              "       'Communication', 'My say', 'Information', 'Kept informed',\n",
              "       'Wellness programs', 'Health & Safety'],\n",
              "      dtype='object')"
            ]
          },
          "metadata": {},
          "execution_count": 7
        }
      ],
      "source": [
        "dete_survey.columns[28:49]"
      ]
    },
    {
      "cell_type": "code",
      "execution_count": null,
      "metadata": {
        "colab": {
          "base_uri": "https://localhost:8080/"
        },
        "id": "4px_U8_lIchY",
        "outputId": "8b8a2de4-1540-4c2a-aa84-6f52fc3935bb"
      },
      "outputs": [
        {
          "output_type": "execute_result",
          "data": {
            "text/plain": [
              "Index(['ID', 'SeparationType', 'Cease Date', 'DETE Start Date',\n",
              "       'Role Start Date', 'Position', 'Classification', 'Region',\n",
              "       'Business Unit', 'Employment Status', 'Career move to public sector',\n",
              "       'Career move to private sector', 'Interpersonal conflicts',\n",
              "       'Job dissatisfaction', 'Dissatisfaction with the department',\n",
              "       'Physical work environment', 'Lack of recognition',\n",
              "       'Lack of job security', 'Work location', 'Employment conditions',\n",
              "       'Maternity/family', 'Relocation', 'Study/Travel', 'Ill Health',\n",
              "       'Traumatic incident', 'Work life balance', 'Workload',\n",
              "       'None of the above'],\n",
              "      dtype='object')"
            ]
          },
          "metadata": {},
          "execution_count": 8
        }
      ],
      "source": [
        "dete_survey.columns[0:28]"
      ]
    },
    {
      "cell_type": "code",
      "execution_count": null,
      "metadata": {
        "colab": {
          "base_uri": "https://localhost:8080/"
        },
        "id": "j_cqx0ClIchZ",
        "outputId": "2a2bf618-5968-4a00-8492-7d76c8273b83"
      },
      "outputs": [
        {
          "output_type": "execute_result",
          "data": {
            "text/plain": [
              "Index(['Main Factor. Which of these was the main factor for leaving?',\n",
              "       'InstituteViews. Topic:1. I feel the senior leadership had a clear vision and direction',\n",
              "       'InstituteViews. Topic:2. I was given access to skills training to help me do my job better',\n",
              "       'InstituteViews. Topic:3. I was given adequate opportunities for personal development',\n",
              "       'InstituteViews. Topic:4. I was given adequate opportunities for promotion within %Institute]Q25LBL%',\n",
              "       'InstituteViews. Topic:5. I felt the salary for the job was right for the responsibilities I had',\n",
              "       'InstituteViews. Topic:6. The organisation recognised when staff did good work',\n",
              "       'InstituteViews. Topic:7. Management was generally supportive of me',\n",
              "       'InstituteViews. Topic:8. Management was generally supportive of my team',\n",
              "       'InstituteViews. Topic:9. I was kept informed of the changes in the organisation which would affect me',\n",
              "       'InstituteViews. Topic:10. Staff morale was positive within the Institute',\n",
              "       'InstituteViews. Topic:11. If I had a workplace issue it was dealt with quickly',\n",
              "       'InstituteViews. Topic:12. If I had a workplace issue it was dealt with efficiently',\n",
              "       'InstituteViews. Topic:13. If I had a workplace issue it was dealt with discreetly',\n",
              "       'WorkUnitViews. Topic:14. I was satisfied with the quality of the management and supervision within my work unit',\n",
              "       'WorkUnitViews. Topic:15. I worked well with my colleagues',\n",
              "       'WorkUnitViews. Topic:16. My job was challenging and interesting',\n",
              "       'WorkUnitViews. Topic:17. I was encouraged to use my initiative in the course of my work',\n",
              "       'WorkUnitViews. Topic:18. I had sufficient contact with other people in my job',\n",
              "       'WorkUnitViews. Topic:19. I was given adequate support and co-operation by my peers to enable me to do my job',\n",
              "       'WorkUnitViews. Topic:20. I was able to use the full range of my skills in my job',\n",
              "       'WorkUnitViews. Topic:21. I was able to use the full range of my abilities in my job. ; Category:Level of Agreement; Question:YOUR VIEWS ABOUT YOUR WORK UNIT]',\n",
              "       'WorkUnitViews. Topic:22. I was able to use the full range of my knowledge in my job',\n",
              "       'WorkUnitViews. Topic:23. My job provided sufficient variety',\n",
              "       'WorkUnitViews. Topic:24. I was able to cope with the level of stress and pressure in my job',\n",
              "       'WorkUnitViews. Topic:25. My job allowed me to balance the demands of work and family to my satisfaction',\n",
              "       'WorkUnitViews. Topic:26. My supervisor gave me adequate personal recognition and feedback on my performance',\n",
              "       'WorkUnitViews. Topic:27. My working environment was satisfactory e.g. sufficient space, good lighting, suitable seating and working area',\n",
              "       'WorkUnitViews. Topic:28. I was given the opportunity to mentor and coach others in order for me to pass on my skills and knowledge prior to my cessation date',\n",
              "       'WorkUnitViews. Topic:29. There was adequate communication between staff in my unit',\n",
              "       'WorkUnitViews. Topic:30. Staff morale was positive within my work unit',\n",
              "       'Induction. Did you undertake Workplace Induction?',\n",
              "       'InductionInfo. Topic:Did you undertake a Corporate Induction?',\n",
              "       'InductionInfo. Topic:Did you undertake a Institute Induction?',\n",
              "       'InductionInfo. Topic: Did you undertake Team Induction?',\n",
              "       'InductionInfo. Face to Face Topic:Did you undertake a Corporate Induction; Category:How it was conducted?',\n",
              "       'InductionInfo. On-line Topic:Did you undertake a Corporate Induction; Category:How it was conducted?',\n",
              "       'InductionInfo. Induction Manual Topic:Did you undertake a Corporate Induction?',\n",
              "       'InductionInfo. Face to Face Topic:Did you undertake a Institute Induction?',\n",
              "       'InductionInfo. On-line Topic:Did you undertake a Institute Induction?',\n",
              "       'InductionInfo. Induction Manual Topic:Did you undertake a Institute Induction?',\n",
              "       'InductionInfo. Face to Face Topic: Did you undertake Team Induction; Category?',\n",
              "       'InductionInfo. On-line Topic: Did you undertake Team Induction?process you undertook and how it was conducted.]',\n",
              "       'InductionInfo. Induction Manual Topic: Did you undertake Team Induction?',\n",
              "       'Workplace. Topic:Did you and your Manager develop a Performance and Professional Development Plan (PPDP)?',\n",
              "       'Workplace. Topic:Does your workplace promote a work culture free from all forms of unlawful discrimination?',\n",
              "       'Workplace. Topic:Does your workplace promote and practice the principles of employment equity?',\n",
              "       'Workplace. Topic:Does your workplace value the diversity of its employees?',\n",
              "       'Workplace. Topic:Would you recommend the Institute as an employer to others?'],\n",
              "      dtype='object')"
            ]
          },
          "metadata": {},
          "execution_count": 9
        }
      ],
      "source": [
        "tafe_survey.columns[17:66]"
      ]
    },
    {
      "cell_type": "markdown",
      "source": [
        "# Data cleaning"
      ],
      "metadata": {
        "id": "bJLN5PfZLZ2l"
      }
    },
    {
      "cell_type": "markdown",
      "metadata": {
        "id": "feT_7mowIcha"
      },
      "source": [
        "I would like to use some of the columns in both databases for the final analyses, however, their names are a bit different so I'll rename it.\n",
        "![image.png](attachment:image.png)"
      ]
    },
    {
      "cell_type": "code",
      "execution_count": null,
      "metadata": {
        "id": "g_HePzzWIcha"
      },
      "outputs": [],
      "source": [
        "# Rename the columns\n",
        "dete_survey.columns = dete_survey.columns.str.lower().str.replace(\" \", \"_\").str.strip()"
      ]
    },
    {
      "cell_type": "code",
      "execution_count": null,
      "metadata": {
        "colab": {
          "base_uri": "https://localhost:8080/"
        },
        "id": "UXyJO6zhIcha",
        "outputId": "68d607a6-0c33-4d74-f0b2-54a18adff412"
      },
      "outputs": [
        {
          "output_type": "execute_result",
          "data": {
            "text/plain": [
              "Index(['id', 'separationtype', 'cease_date', 'dete_start_date',\n",
              "       'role_start_date', 'position', 'classification', 'region',\n",
              "       'business_unit', 'employment_status', 'career_move_to_public_sector',\n",
              "       'career_move_to_private_sector', 'interpersonal_conflicts',\n",
              "       'job_dissatisfaction', 'dissatisfaction_with_the_department',\n",
              "       'physical_work_environment', 'lack_of_recognition',\n",
              "       'lack_of_job_security', 'work_location', 'employment_conditions',\n",
              "       'maternity/family', 'relocation', 'study/travel', 'ill_health',\n",
              "       'traumatic_incident', 'work_life_balance', 'workload',\n",
              "       'none_of_the_above', 'professional_development',\n",
              "       'opportunities_for_promotion', 'staff_morale', 'workplace_issue',\n",
              "       'physical_environment', 'worklife_balance',\n",
              "       'stress_and_pressure_support', 'performance_of_supervisor',\n",
              "       'peer_support', 'initiative', 'skills', 'coach', 'career_aspirations',\n",
              "       'feedback', 'further_pd', 'communication', 'my_say', 'information',\n",
              "       'kept_informed', 'wellness_programs', 'health_&_safety', 'gender',\n",
              "       'age', 'aboriginal', 'torres_strait', 'south_sea', 'disability',\n",
              "       'nesb'],\n",
              "      dtype='object')"
            ]
          },
          "metadata": {},
          "execution_count": 11
        }
      ],
      "source": [
        "dete_survey.columns"
      ]
    },
    {
      "cell_type": "code",
      "execution_count": null,
      "metadata": {
        "colab": {
          "base_uri": "https://localhost:8080/"
        },
        "id": "VanlvAGGIchb",
        "outputId": "c73ec630-4be9-4340-a4af-062096870c77"
      },
      "outputs": [
        {
          "output_type": "execute_result",
          "data": {
            "text/plain": [
              "Index(['Record ID', 'Institute', 'WorkArea', 'CESSATION YEAR',\n",
              "       'Reason for ceasing employment',\n",
              "       'Contributing Factors. Career Move - Public Sector ',\n",
              "       'Contributing Factors. Career Move - Private Sector ',\n",
              "       'Contributing Factors. Career Move - Self-employment',\n",
              "       'Contributing Factors. Ill Health',\n",
              "       'Contributing Factors. Maternity/Family',\n",
              "       'Contributing Factors. Dissatisfaction',\n",
              "       'Contributing Factors. Job Dissatisfaction',\n",
              "       'Contributing Factors. Interpersonal Conflict',\n",
              "       'Contributing Factors. Study', 'Contributing Factors. Travel',\n",
              "       'Contributing Factors. Other', 'Contributing Factors. NONE',\n",
              "       'Main Factor. Which of these was the main factor for leaving?',\n",
              "       'InstituteViews. Topic:1. I feel the senior leadership had a clear vision and direction',\n",
              "       'InstituteViews. Topic:2. I was given access to skills training to help me do my job better',\n",
              "       'InstituteViews. Topic:3. I was given adequate opportunities for personal development',\n",
              "       'InstituteViews. Topic:4. I was given adequate opportunities for promotion within %Institute]Q25LBL%',\n",
              "       'InstituteViews. Topic:5. I felt the salary for the job was right for the responsibilities I had',\n",
              "       'InstituteViews. Topic:6. The organisation recognised when staff did good work',\n",
              "       'InstituteViews. Topic:7. Management was generally supportive of me',\n",
              "       'InstituteViews. Topic:8. Management was generally supportive of my team',\n",
              "       'InstituteViews. Topic:9. I was kept informed of the changes in the organisation which would affect me',\n",
              "       'InstituteViews. Topic:10. Staff morale was positive within the Institute',\n",
              "       'InstituteViews. Topic:11. If I had a workplace issue it was dealt with quickly',\n",
              "       'InstituteViews. Topic:12. If I had a workplace issue it was dealt with efficiently',\n",
              "       'InstituteViews. Topic:13. If I had a workplace issue it was dealt with discreetly',\n",
              "       'WorkUnitViews. Topic:14. I was satisfied with the quality of the management and supervision within my work unit',\n",
              "       'WorkUnitViews. Topic:15. I worked well with my colleagues',\n",
              "       'WorkUnitViews. Topic:16. My job was challenging and interesting',\n",
              "       'WorkUnitViews. Topic:17. I was encouraged to use my initiative in the course of my work',\n",
              "       'WorkUnitViews. Topic:18. I had sufficient contact with other people in my job',\n",
              "       'WorkUnitViews. Topic:19. I was given adequate support and co-operation by my peers to enable me to do my job',\n",
              "       'WorkUnitViews. Topic:20. I was able to use the full range of my skills in my job',\n",
              "       'WorkUnitViews. Topic:21. I was able to use the full range of my abilities in my job. ; Category:Level of Agreement; Question:YOUR VIEWS ABOUT YOUR WORK UNIT]',\n",
              "       'WorkUnitViews. Topic:22. I was able to use the full range of my knowledge in my job',\n",
              "       'WorkUnitViews. Topic:23. My job provided sufficient variety',\n",
              "       'WorkUnitViews. Topic:24. I was able to cope with the level of stress and pressure in my job',\n",
              "       'WorkUnitViews. Topic:25. My job allowed me to balance the demands of work and family to my satisfaction',\n",
              "       'WorkUnitViews. Topic:26. My supervisor gave me adequate personal recognition and feedback on my performance',\n",
              "       'WorkUnitViews. Topic:27. My working environment was satisfactory e.g. sufficient space, good lighting, suitable seating and working area',\n",
              "       'WorkUnitViews. Topic:28. I was given the opportunity to mentor and coach others in order for me to pass on my skills and knowledge prior to my cessation date',\n",
              "       'WorkUnitViews. Topic:29. There was adequate communication between staff in my unit',\n",
              "       'WorkUnitViews. Topic:30. Staff morale was positive within my work unit',\n",
              "       'Induction. Did you undertake Workplace Induction?',\n",
              "       'InductionInfo. Topic:Did you undertake a Corporate Induction?',\n",
              "       'InductionInfo. Topic:Did you undertake a Institute Induction?',\n",
              "       'InductionInfo. Topic: Did you undertake Team Induction?',\n",
              "       'InductionInfo. Face to Face Topic:Did you undertake a Corporate Induction; Category:How it was conducted?',\n",
              "       'InductionInfo. On-line Topic:Did you undertake a Corporate Induction; Category:How it was conducted?',\n",
              "       'InductionInfo. Induction Manual Topic:Did you undertake a Corporate Induction?',\n",
              "       'InductionInfo. Face to Face Topic:Did you undertake a Institute Induction?',\n",
              "       'InductionInfo. On-line Topic:Did you undertake a Institute Induction?',\n",
              "       'InductionInfo. Induction Manual Topic:Did you undertake a Institute Induction?',\n",
              "       'InductionInfo. Face to Face Topic: Did you undertake Team Induction; Category?',\n",
              "       'InductionInfo. On-line Topic: Did you undertake Team Induction?process you undertook and how it was conducted.]',\n",
              "       'InductionInfo. Induction Manual Topic: Did you undertake Team Induction?',\n",
              "       'Workplace. Topic:Did you and your Manager develop a Performance and Professional Development Plan (PPDP)?',\n",
              "       'Workplace. Topic:Does your workplace promote a work culture free from all forms of unlawful discrimination?',\n",
              "       'Workplace. Topic:Does your workplace promote and practice the principles of employment equity?',\n",
              "       'Workplace. Topic:Does your workplace value the diversity of its employees?',\n",
              "       'Workplace. Topic:Would you recommend the Institute as an employer to others?',\n",
              "       'Gender. What is your Gender?', 'CurrentAge. Current Age',\n",
              "       'Employment Type. Employment Type', 'Classification. Classification',\n",
              "       'LengthofServiceOverall. Overall Length of Service at Institute (in years)',\n",
              "       'LengthofServiceCurrent. Length of Service at current workplace (in years)'],\n",
              "      dtype='object')"
            ]
          },
          "metadata": {},
          "execution_count": 12
        }
      ],
      "source": [
        "tafe_survey.columns"
      ]
    },
    {
      "cell_type": "code",
      "execution_count": null,
      "metadata": {
        "id": "943pAbpgIchb"
      },
      "outputs": [],
      "source": [
        "new_columns = {'Record ID': 'id',\n",
        "'CESSATION YEAR':'cease_date',\n",
        "'Reason for ceasing employment':'separation_type',\n",
        "'Gender. What is your Gender?':'gender',\n",
        "'CurrentAge. Current Age':'age',\n",
        "'Employment Type. Employment Type':'employment_status',\n",
        "'Classification. Classification':'position',\n",
        "'LengthofServiceOverall. Overall Length of Service at Institute (in years)':'institute_service',\n",
        "'LengthofServiceCurrent. Length of Service at current workplace (in years)':'role_service',\n",
        "'Contributing Factors. Dissatisfaction':'factors_diss',\n",
        "'Contributing Factors. Job Dissatisfaction':'factors_job_diss'\n",
        "        }"
      ]
    },
    {
      "cell_type": "code",
      "execution_count": null,
      "metadata": {
        "colab": {
          "base_uri": "https://localhost:8080/"
        },
        "id": "IC4gcbcUIchc",
        "outputId": "a9770a62-0854-4514-8ea6-5c94f9f4e2b3"
      },
      "outputs": [
        {
          "output_type": "execute_result",
          "data": {
            "text/plain": [
              "Index(['id', 'Institute', 'WorkArea', 'cease_date', 'separation_type',\n",
              "       'Contributing Factors. Career Move - Public Sector ',\n",
              "       'Contributing Factors. Career Move - Private Sector ',\n",
              "       'Contributing Factors. Career Move - Self-employment',\n",
              "       'Contributing Factors. Ill Health',\n",
              "       'Contributing Factors. Maternity/Family', 'factors_diss',\n",
              "       'factors_job_diss', 'Contributing Factors. Interpersonal Conflict',\n",
              "       'Contributing Factors. Study', 'Contributing Factors. Travel',\n",
              "       'Contributing Factors. Other', 'Contributing Factors. NONE',\n",
              "       'Main Factor. Which of these was the main factor for leaving?',\n",
              "       'InstituteViews. Topic:1. I feel the senior leadership had a clear vision and direction',\n",
              "       'InstituteViews. Topic:2. I was given access to skills training to help me do my job better',\n",
              "       'InstituteViews. Topic:3. I was given adequate opportunities for personal development',\n",
              "       'InstituteViews. Topic:4. I was given adequate opportunities for promotion within %Institute]Q25LBL%',\n",
              "       'InstituteViews. Topic:5. I felt the salary for the job was right for the responsibilities I had',\n",
              "       'InstituteViews. Topic:6. The organisation recognised when staff did good work',\n",
              "       'InstituteViews. Topic:7. Management was generally supportive of me',\n",
              "       'InstituteViews. Topic:8. Management was generally supportive of my team',\n",
              "       'InstituteViews. Topic:9. I was kept informed of the changes in the organisation which would affect me',\n",
              "       'InstituteViews. Topic:10. Staff morale was positive within the Institute',\n",
              "       'InstituteViews. Topic:11. If I had a workplace issue it was dealt with quickly',\n",
              "       'InstituteViews. Topic:12. If I had a workplace issue it was dealt with efficiently',\n",
              "       'InstituteViews. Topic:13. If I had a workplace issue it was dealt with discreetly',\n",
              "       'WorkUnitViews. Topic:14. I was satisfied with the quality of the management and supervision within my work unit',\n",
              "       'WorkUnitViews. Topic:15. I worked well with my colleagues',\n",
              "       'WorkUnitViews. Topic:16. My job was challenging and interesting',\n",
              "       'WorkUnitViews. Topic:17. I was encouraged to use my initiative in the course of my work',\n",
              "       'WorkUnitViews. Topic:18. I had sufficient contact with other people in my job',\n",
              "       'WorkUnitViews. Topic:19. I was given adequate support and co-operation by my peers to enable me to do my job',\n",
              "       'WorkUnitViews. Topic:20. I was able to use the full range of my skills in my job',\n",
              "       'WorkUnitViews. Topic:21. I was able to use the full range of my abilities in my job. ; Category:Level of Agreement; Question:YOUR VIEWS ABOUT YOUR WORK UNIT]',\n",
              "       'WorkUnitViews. Topic:22. I was able to use the full range of my knowledge in my job',\n",
              "       'WorkUnitViews. Topic:23. My job provided sufficient variety',\n",
              "       'WorkUnitViews. Topic:24. I was able to cope with the level of stress and pressure in my job',\n",
              "       'WorkUnitViews. Topic:25. My job allowed me to balance the demands of work and family to my satisfaction',\n",
              "       'WorkUnitViews. Topic:26. My supervisor gave me adequate personal recognition and feedback on my performance',\n",
              "       'WorkUnitViews. Topic:27. My working environment was satisfactory e.g. sufficient space, good lighting, suitable seating and working area',\n",
              "       'WorkUnitViews. Topic:28. I was given the opportunity to mentor and coach others in order for me to pass on my skills and knowledge prior to my cessation date',\n",
              "       'WorkUnitViews. Topic:29. There was adequate communication between staff in my unit',\n",
              "       'WorkUnitViews. Topic:30. Staff morale was positive within my work unit',\n",
              "       'Induction. Did you undertake Workplace Induction?',\n",
              "       'InductionInfo. Topic:Did you undertake a Corporate Induction?',\n",
              "       'InductionInfo. Topic:Did you undertake a Institute Induction?',\n",
              "       'InductionInfo. Topic: Did you undertake Team Induction?',\n",
              "       'InductionInfo. Face to Face Topic:Did you undertake a Corporate Induction; Category:How it was conducted?',\n",
              "       'InductionInfo. On-line Topic:Did you undertake a Corporate Induction; Category:How it was conducted?',\n",
              "       'InductionInfo. Induction Manual Topic:Did you undertake a Corporate Induction?',\n",
              "       'InductionInfo. Face to Face Topic:Did you undertake a Institute Induction?',\n",
              "       'InductionInfo. On-line Topic:Did you undertake a Institute Induction?',\n",
              "       'InductionInfo. Induction Manual Topic:Did you undertake a Institute Induction?',\n",
              "       'InductionInfo. Face to Face Topic: Did you undertake Team Induction; Category?',\n",
              "       'InductionInfo. On-line Topic: Did you undertake Team Induction?process you undertook and how it was conducted.]',\n",
              "       'InductionInfo. Induction Manual Topic: Did you undertake Team Induction?',\n",
              "       'Workplace. Topic:Did you and your Manager develop a Performance and Professional Development Plan (PPDP)?',\n",
              "       'Workplace. Topic:Does your workplace promote a work culture free from all forms of unlawful discrimination?',\n",
              "       'Workplace. Topic:Does your workplace promote and practice the principles of employment equity?',\n",
              "       'Workplace. Topic:Does your workplace value the diversity of its employees?',\n",
              "       'Workplace. Topic:Would you recommend the Institute as an employer to others?',\n",
              "       'gender', 'age', 'employment_status', 'position', 'institute_service',\n",
              "       'role_service'],\n",
              "      dtype='object')"
            ]
          },
          "metadata": {},
          "execution_count": 14
        }
      ],
      "source": [
        "tafe_survey = tafe_survey.rename(new_columns, axis = 1)\n",
        "tafe_survey.columns"
      ]
    },
    {
      "cell_type": "code",
      "execution_count": null,
      "metadata": {
        "colab": {
          "base_uri": "https://localhost:8080/"
        },
        "id": "zuJl20C0Ichc",
        "outputId": "d787faaf-2f04-42ca-baae-3ab814296cf0"
      },
      "outputs": [
        {
          "output_type": "execute_result",
          "data": {
            "text/plain": [
              "Index(['id', 'separationtype', 'cease_date', 'dete_start_date',\n",
              "       'role_start_date', 'position', 'classification', 'region',\n",
              "       'business_unit', 'employment_status', 'career_move_to_public_sector',\n",
              "       'career_move_to_private_sector', 'interpersonal_conflicts',\n",
              "       'job_dissatisfaction', 'dissatisfaction_with_the_department',\n",
              "       'physical_work_environment', 'lack_of_recognition',\n",
              "       'lack_of_job_security', 'work_location', 'employment_conditions',\n",
              "       'maternity/family', 'relocation', 'study/travel', 'ill_health',\n",
              "       'traumatic_incident', 'work_life_balance', 'workload',\n",
              "       'none_of_the_above', 'gender', 'age', 'aboriginal', 'torres_strait',\n",
              "       'south_sea', 'disability', 'nesb'],\n",
              "      dtype='object')"
            ]
          },
          "metadata": {},
          "execution_count": 15
        }
      ],
      "source": [
        "# Drop the columns that are not necessary for the analysis\n",
        "dete_survey_updated= dete_survey.drop(dete_survey.columns[28:49], axis =1)\n",
        "tafe_survey_updated= tafe_survey.drop(tafe_survey.columns[17:66], axis =1)\n",
        "dete_survey_updated.columns"
      ]
    },
    {
      "cell_type": "markdown",
      "metadata": {
        "id": "Zf38fvxFIchc"
      },
      "source": [
        "The end goal is to answer the following question:\n",
        "\n",
        "Are employees who have only worked for the institutes for a short period of time __resigning__ due to some kind of dissatisfaction? What about employees who have been at the job longer?\n",
        "\n",
        "So I only analyse survey respondents who resigned, so their separation type contains the string 'Resignation'.\n",
        "\n",
        "Note that dete_survey_updated dataframe contains multiple separation types with the string 'Resignation':\n",
        "\n",
        "Resignation-Other reasons\n",
        "Resignation-Other employer\n",
        "Resignation-Move overseas/interstate\n",
        "I'll have to account for each of these variations so we don't unintentionally drop data!"
      ]
    },
    {
      "cell_type": "code",
      "execution_count": null,
      "metadata": {
        "id": "K3TS3vLlIchd"
      },
      "outputs": [],
      "source": [
        "dete_survey_updated.rename({'separationtype': 'separation_type'}, axis=1, inplace=True)"
      ]
    },
    {
      "cell_type": "code",
      "execution_count": null,
      "metadata": {
        "colab": {
          "base_uri": "https://localhost:8080/"
        },
        "id": "1aqw2ERZIchd",
        "outputId": "31214362-2723-452d-db53-5b6e9ec95113"
      },
      "outputs": [
        {
          "output_type": "execute_result",
          "data": {
            "text/plain": [
              "Index(['id', 'separation_type', 'cease_date', 'dete_start_date',\n",
              "       'role_start_date', 'position', 'classification', 'region',\n",
              "       'business_unit', 'employment_status', 'career_move_to_public_sector',\n",
              "       'career_move_to_private_sector', 'interpersonal_conflicts',\n",
              "       'job_dissatisfaction', 'dissatisfaction_with_the_department',\n",
              "       'physical_work_environment', 'lack_of_recognition',\n",
              "       'lack_of_job_security', 'work_location', 'employment_conditions',\n",
              "       'maternity/family', 'relocation', 'study/travel', 'ill_health',\n",
              "       'traumatic_incident', 'work_life_balance', 'workload',\n",
              "       'none_of_the_above', 'gender', 'age', 'aboriginal', 'torres_strait',\n",
              "       'south_sea', 'disability', 'nesb'],\n",
              "      dtype='object')"
            ]
          },
          "metadata": {},
          "execution_count": 17
        }
      ],
      "source": [
        "dete_survey_updated.columns"
      ]
    },
    {
      "cell_type": "code",
      "execution_count": null,
      "metadata": {
        "colab": {
          "base_uri": "https://localhost:8080/"
        },
        "id": "gUCtc50vIchd",
        "outputId": "6c089e73-a435-45be-e6d2-075beb4d4934"
      },
      "outputs": [
        {
          "output_type": "execute_result",
          "data": {
            "text/plain": [
              "Age Retirement                          285\n",
              "Resignation-Other reasons               150\n",
              "Resignation-Other employer               91\n",
              "Resignation-Move overseas/interstate     70\n",
              "Voluntary Early Retirement (VER)         67\n",
              "Ill Health Retirement                    61\n",
              "Other                                    49\n",
              "Contract Expired                         34\n",
              "Termination                              15\n",
              "Name: separation_type, dtype: int64"
            ]
          },
          "metadata": {},
          "execution_count": 18
        }
      ],
      "source": [
        "dete_survey_updated[\"separation_type\"].value_counts(dropna = False)"
      ]
    },
    {
      "cell_type": "code",
      "execution_count": null,
      "metadata": {
        "colab": {
          "base_uri": "https://localhost:8080/"
        },
        "id": "HKwPxC5QIche",
        "outputId": "5faaf58a-7677-4430-b1ff-ecaaf2fa7874"
      },
      "outputs": [
        {
          "output_type": "execute_result",
          "data": {
            "text/plain": [
              "0      08/2012\n",
              "1      08/2012\n",
              "2      05/2012\n",
              "3      05/2012\n",
              "4      05/2012\n",
              "        ...   \n",
              "817    02/2014\n",
              "818    01/2014\n",
              "819    01/2014\n",
              "820    12/2013\n",
              "821    12/2013\n",
              "Name: cease_date, Length: 822, dtype: object"
            ]
          },
          "metadata": {},
          "execution_count": 19
        }
      ],
      "source": [
        "dete_survey_updated[\"cease_date\"]\n",
        "# check for the validity of our data. The simplest way would be to check the start and end date\n",
        "\n",
        "    "
      ]
    },
    {
      "cell_type": "code",
      "execution_count": null,
      "metadata": {
        "id": "Z9D1BwX6Iche"
      },
      "outputs": [],
      "source": [
        "# filtering out separation due to resignation\n",
        "dete_survey_updated[\"separation_type\"] = dete_survey_updated[\"separation_type\"].str.split('-').str[0]\n",
        "dete_resignations = dete_survey_updated.copy()[dete_survey_updated[\"separation_type\"].str.contains(r'Resignation')]"
      ]
    },
    {
      "cell_type": "code",
      "execution_count": null,
      "metadata": {
        "colab": {
          "base_uri": "https://localhost:8080/"
        },
        "id": "DKjz1zCrIche",
        "outputId": "0ea0ab3d-d4b5-4f60-fd46-1ed32b8e136d"
      },
      "outputs": [
        {
          "output_type": "execute_result",
          "data": {
            "text/html": [
              "\n",
              "  <div id=\"df-8a4a155d-2099-4a2d-aff4-e5f99885e0df\">\n",
              "    <div class=\"colab-df-container\">\n",
              "      <div>\n",
              "<style scoped>\n",
              "    .dataframe tbody tr th:only-of-type {\n",
              "        vertical-align: middle;\n",
              "    }\n",
              "\n",
              "    .dataframe tbody tr th {\n",
              "        vertical-align: top;\n",
              "    }\n",
              "\n",
              "    .dataframe thead th {\n",
              "        text-align: right;\n",
              "    }\n",
              "</style>\n",
              "<table border=\"1\" class=\"dataframe\">\n",
              "  <thead>\n",
              "    <tr style=\"text-align: right;\">\n",
              "      <th></th>\n",
              "      <th>id</th>\n",
              "      <th>separation_type</th>\n",
              "      <th>cease_date</th>\n",
              "      <th>dete_start_date</th>\n",
              "      <th>role_start_date</th>\n",
              "      <th>position</th>\n",
              "      <th>classification</th>\n",
              "      <th>region</th>\n",
              "      <th>business_unit</th>\n",
              "      <th>employment_status</th>\n",
              "      <th>career_move_to_public_sector</th>\n",
              "      <th>career_move_to_private_sector</th>\n",
              "      <th>interpersonal_conflicts</th>\n",
              "      <th>job_dissatisfaction</th>\n",
              "      <th>dissatisfaction_with_the_department</th>\n",
              "      <th>physical_work_environment</th>\n",
              "      <th>lack_of_recognition</th>\n",
              "      <th>lack_of_job_security</th>\n",
              "      <th>work_location</th>\n",
              "      <th>employment_conditions</th>\n",
              "      <th>maternity/family</th>\n",
              "      <th>relocation</th>\n",
              "      <th>study/travel</th>\n",
              "      <th>ill_health</th>\n",
              "      <th>traumatic_incident</th>\n",
              "      <th>work_life_balance</th>\n",
              "      <th>workload</th>\n",
              "      <th>none_of_the_above</th>\n",
              "      <th>gender</th>\n",
              "      <th>age</th>\n",
              "      <th>aboriginal</th>\n",
              "      <th>torres_strait</th>\n",
              "      <th>south_sea</th>\n",
              "      <th>disability</th>\n",
              "      <th>nesb</th>\n",
              "    </tr>\n",
              "  </thead>\n",
              "  <tbody>\n",
              "    <tr>\n",
              "      <th>3</th>\n",
              "      <td>4</td>\n",
              "      <td>Resignation</td>\n",
              "      <td>05/2012</td>\n",
              "      <td>2005</td>\n",
              "      <td>2006</td>\n",
              "      <td>Teacher</td>\n",
              "      <td>Primary</td>\n",
              "      <td>Central Queensland</td>\n",
              "      <td>NaN</td>\n",
              "      <td>Permanent Full-time</td>\n",
              "      <td>False</td>\n",
              "      <td>True</td>\n",
              "      <td>False</td>\n",
              "      <td>False</td>\n",
              "      <td>False</td>\n",
              "      <td>False</td>\n",
              "      <td>False</td>\n",
              "      <td>False</td>\n",
              "      <td>False</td>\n",
              "      <td>False</td>\n",
              "      <td>False</td>\n",
              "      <td>False</td>\n",
              "      <td>False</td>\n",
              "      <td>False</td>\n",
              "      <td>False</td>\n",
              "      <td>False</td>\n",
              "      <td>False</td>\n",
              "      <td>False</td>\n",
              "      <td>Female</td>\n",
              "      <td>36-40</td>\n",
              "      <td>NaN</td>\n",
              "      <td>NaN</td>\n",
              "      <td>NaN</td>\n",
              "      <td>NaN</td>\n",
              "      <td>NaN</td>\n",
              "    </tr>\n",
              "    <tr>\n",
              "      <th>5</th>\n",
              "      <td>6</td>\n",
              "      <td>Resignation</td>\n",
              "      <td>05/2012</td>\n",
              "      <td>1994</td>\n",
              "      <td>1997</td>\n",
              "      <td>Guidance Officer</td>\n",
              "      <td>NaN</td>\n",
              "      <td>Central Office</td>\n",
              "      <td>Education Queensland</td>\n",
              "      <td>Permanent Full-time</td>\n",
              "      <td>False</td>\n",
              "      <td>True</td>\n",
              "      <td>False</td>\n",
              "      <td>False</td>\n",
              "      <td>False</td>\n",
              "      <td>False</td>\n",
              "      <td>False</td>\n",
              "      <td>False</td>\n",
              "      <td>False</td>\n",
              "      <td>True</td>\n",
              "      <td>True</td>\n",
              "      <td>False</td>\n",
              "      <td>False</td>\n",
              "      <td>False</td>\n",
              "      <td>False</td>\n",
              "      <td>False</td>\n",
              "      <td>False</td>\n",
              "      <td>False</td>\n",
              "      <td>Female</td>\n",
              "      <td>41-45</td>\n",
              "      <td>NaN</td>\n",
              "      <td>NaN</td>\n",
              "      <td>NaN</td>\n",
              "      <td>NaN</td>\n",
              "      <td>NaN</td>\n",
              "    </tr>\n",
              "    <tr>\n",
              "      <th>8</th>\n",
              "      <td>9</td>\n",
              "      <td>Resignation</td>\n",
              "      <td>07/2012</td>\n",
              "      <td>2009</td>\n",
              "      <td>2009</td>\n",
              "      <td>Teacher</td>\n",
              "      <td>Secondary</td>\n",
              "      <td>North Queensland</td>\n",
              "      <td>NaN</td>\n",
              "      <td>Permanent Full-time</td>\n",
              "      <td>False</td>\n",
              "      <td>True</td>\n",
              "      <td>False</td>\n",
              "      <td>False</td>\n",
              "      <td>False</td>\n",
              "      <td>False</td>\n",
              "      <td>False</td>\n",
              "      <td>False</td>\n",
              "      <td>False</td>\n",
              "      <td>False</td>\n",
              "      <td>False</td>\n",
              "      <td>False</td>\n",
              "      <td>False</td>\n",
              "      <td>False</td>\n",
              "      <td>False</td>\n",
              "      <td>False</td>\n",
              "      <td>False</td>\n",
              "      <td>False</td>\n",
              "      <td>Female</td>\n",
              "      <td>31-35</td>\n",
              "      <td>NaN</td>\n",
              "      <td>NaN</td>\n",
              "      <td>NaN</td>\n",
              "      <td>NaN</td>\n",
              "      <td>NaN</td>\n",
              "    </tr>\n",
              "    <tr>\n",
              "      <th>9</th>\n",
              "      <td>10</td>\n",
              "      <td>Resignation</td>\n",
              "      <td>2012</td>\n",
              "      <td>1997</td>\n",
              "      <td>2008</td>\n",
              "      <td>Teacher Aide</td>\n",
              "      <td>NaN</td>\n",
              "      <td>Not Stated</td>\n",
              "      <td>NaN</td>\n",
              "      <td>Permanent Part-time</td>\n",
              "      <td>False</td>\n",
              "      <td>False</td>\n",
              "      <td>True</td>\n",
              "      <td>True</td>\n",
              "      <td>True</td>\n",
              "      <td>False</td>\n",
              "      <td>False</td>\n",
              "      <td>False</td>\n",
              "      <td>False</td>\n",
              "      <td>False</td>\n",
              "      <td>False</td>\n",
              "      <td>False</td>\n",
              "      <td>False</td>\n",
              "      <td>False</td>\n",
              "      <td>False</td>\n",
              "      <td>False</td>\n",
              "      <td>False</td>\n",
              "      <td>False</td>\n",
              "      <td>Female</td>\n",
              "      <td>46-50</td>\n",
              "      <td>NaN</td>\n",
              "      <td>NaN</td>\n",
              "      <td>NaN</td>\n",
              "      <td>NaN</td>\n",
              "      <td>NaN</td>\n",
              "    </tr>\n",
              "    <tr>\n",
              "      <th>11</th>\n",
              "      <td>12</td>\n",
              "      <td>Resignation</td>\n",
              "      <td>2012</td>\n",
              "      <td>2009</td>\n",
              "      <td>2009</td>\n",
              "      <td>Teacher</td>\n",
              "      <td>Secondary</td>\n",
              "      <td>Far North Queensland</td>\n",
              "      <td>NaN</td>\n",
              "      <td>Permanent Full-time</td>\n",
              "      <td>False</td>\n",
              "      <td>False</td>\n",
              "      <td>False</td>\n",
              "      <td>False</td>\n",
              "      <td>False</td>\n",
              "      <td>False</td>\n",
              "      <td>False</td>\n",
              "      <td>False</td>\n",
              "      <td>False</td>\n",
              "      <td>False</td>\n",
              "      <td>True</td>\n",
              "      <td>True</td>\n",
              "      <td>False</td>\n",
              "      <td>False</td>\n",
              "      <td>False</td>\n",
              "      <td>False</td>\n",
              "      <td>False</td>\n",
              "      <td>False</td>\n",
              "      <td>Male</td>\n",
              "      <td>31-35</td>\n",
              "      <td>NaN</td>\n",
              "      <td>NaN</td>\n",
              "      <td>NaN</td>\n",
              "      <td>NaN</td>\n",
              "      <td>NaN</td>\n",
              "    </tr>\n",
              "  </tbody>\n",
              "</table>\n",
              "</div>\n",
              "      <button class=\"colab-df-convert\" onclick=\"convertToInteractive('df-8a4a155d-2099-4a2d-aff4-e5f99885e0df')\"\n",
              "              title=\"Convert this dataframe to an interactive table.\"\n",
              "              style=\"display:none;\">\n",
              "        \n",
              "  <svg xmlns=\"http://www.w3.org/2000/svg\" height=\"24px\"viewBox=\"0 0 24 24\"\n",
              "       width=\"24px\">\n",
              "    <path d=\"M0 0h24v24H0V0z\" fill=\"none\"/>\n",
              "    <path d=\"M18.56 5.44l.94 2.06.94-2.06 2.06-.94-2.06-.94-.94-2.06-.94 2.06-2.06.94zm-11 1L8.5 8.5l.94-2.06 2.06-.94-2.06-.94L8.5 2.5l-.94 2.06-2.06.94zm10 10l.94 2.06.94-2.06 2.06-.94-2.06-.94-.94-2.06-.94 2.06-2.06.94z\"/><path d=\"M17.41 7.96l-1.37-1.37c-.4-.4-.92-.59-1.43-.59-.52 0-1.04.2-1.43.59L10.3 9.45l-7.72 7.72c-.78.78-.78 2.05 0 2.83L4 21.41c.39.39.9.59 1.41.59.51 0 1.02-.2 1.41-.59l7.78-7.78 2.81-2.81c.8-.78.8-2.07 0-2.86zM5.41 20L4 18.59l7.72-7.72 1.47 1.35L5.41 20z\"/>\n",
              "  </svg>\n",
              "      </button>\n",
              "      \n",
              "  <style>\n",
              "    .colab-df-container {\n",
              "      display:flex;\n",
              "      flex-wrap:wrap;\n",
              "      gap: 12px;\n",
              "    }\n",
              "\n",
              "    .colab-df-convert {\n",
              "      background-color: #E8F0FE;\n",
              "      border: none;\n",
              "      border-radius: 50%;\n",
              "      cursor: pointer;\n",
              "      display: none;\n",
              "      fill: #1967D2;\n",
              "      height: 32px;\n",
              "      padding: 0 0 0 0;\n",
              "      width: 32px;\n",
              "    }\n",
              "\n",
              "    .colab-df-convert:hover {\n",
              "      background-color: #E2EBFA;\n",
              "      box-shadow: 0px 1px 2px rgba(60, 64, 67, 0.3), 0px 1px 3px 1px rgba(60, 64, 67, 0.15);\n",
              "      fill: #174EA6;\n",
              "    }\n",
              "\n",
              "    [theme=dark] .colab-df-convert {\n",
              "      background-color: #3B4455;\n",
              "      fill: #D2E3FC;\n",
              "    }\n",
              "\n",
              "    [theme=dark] .colab-df-convert:hover {\n",
              "      background-color: #434B5C;\n",
              "      box-shadow: 0px 1px 3px 1px rgba(0, 0, 0, 0.15);\n",
              "      filter: drop-shadow(0px 1px 2px rgba(0, 0, 0, 0.3));\n",
              "      fill: #FFFFFF;\n",
              "    }\n",
              "  </style>\n",
              "\n",
              "      <script>\n",
              "        const buttonEl =\n",
              "          document.querySelector('#df-8a4a155d-2099-4a2d-aff4-e5f99885e0df button.colab-df-convert');\n",
              "        buttonEl.style.display =\n",
              "          google.colab.kernel.accessAllowed ? 'block' : 'none';\n",
              "\n",
              "        async function convertToInteractive(key) {\n",
              "          const element = document.querySelector('#df-8a4a155d-2099-4a2d-aff4-e5f99885e0df');\n",
              "          const dataTable =\n",
              "            await google.colab.kernel.invokeFunction('convertToInteractive',\n",
              "                                                     [key], {});\n",
              "          if (!dataTable) return;\n",
              "\n",
              "          const docLinkHtml = 'Like what you see? Visit the ' +\n",
              "            '<a target=\"_blank\" href=https://colab.research.google.com/notebooks/data_table.ipynb>data table notebook</a>'\n",
              "            + ' to learn more about interactive tables.';\n",
              "          element.innerHTML = '';\n",
              "          dataTable['output_type'] = 'display_data';\n",
              "          await google.colab.output.renderOutput(dataTable, element);\n",
              "          const docLink = document.createElement('div');\n",
              "          docLink.innerHTML = docLinkHtml;\n",
              "          element.appendChild(docLink);\n",
              "        }\n",
              "      </script>\n",
              "    </div>\n",
              "  </div>\n",
              "  "
            ],
            "text/plain": [
              "    id separation_type cease_date  ... south_sea disability nesb\n",
              "3    4     Resignation    05/2012  ...       NaN        NaN  NaN\n",
              "5    6     Resignation    05/2012  ...       NaN        NaN  NaN\n",
              "8    9     Resignation    07/2012  ...       NaN        NaN  NaN\n",
              "9   10     Resignation       2012  ...       NaN        NaN  NaN\n",
              "11  12     Resignation       2012  ...       NaN        NaN  NaN\n",
              "\n",
              "[5 rows x 35 columns]"
            ]
          },
          "metadata": {},
          "execution_count": 21
        }
      ],
      "source": [
        "dete_resignations.head(5)"
      ]
    },
    {
      "cell_type": "code",
      "execution_count": null,
      "metadata": {
        "colab": {
          "base_uri": "https://localhost:8080/"
        },
        "id": "HfN_Mq-SIche",
        "outputId": "c9a737ae-6f8c-455d-e099-8a9492638ad0"
      },
      "outputs": [
        {
          "output_type": "execute_result",
          "data": {
            "text/plain": [
              "3      False\n",
              "5      False\n",
              "8      False\n",
              "9      False\n",
              "11     False\n",
              "       ...  \n",
              "808    False\n",
              "815    False\n",
              "816    False\n",
              "819    False\n",
              "821    False\n",
              "Name: cease_date, Length: 311, dtype: bool"
            ]
          },
          "metadata": {},
          "execution_count": 22
        }
      ],
      "source": [
        "# Extract the years and convert them to a float type\n",
        "dete_resignations['cease_date'] = dete_survey_updated['cease_date'].str.split('/').str[-1]\n",
        "dete_resignations['cease_date'].isnull()\n",
        "#There are a few values in dete_resignation is not stated, we need to drop these data\n"
      ]
    },
    {
      "cell_type": "code",
      "execution_count": null,
      "metadata": {
        "colab": {
          "base_uri": "https://localhost:8080/"
        },
        "id": "Jzgax_kIIchf",
        "outputId": "a5595f8b-09f5-44ea-f6fe-8447bbc81f86"
      },
      "outputs": [
        {
          "output_type": "execute_result",
          "data": {
            "text/html": [
              "\n",
              "  <div id=\"df-76ca98ae-642d-4b85-9678-85452e3e7d0c\">\n",
              "    <div class=\"colab-df-container\">\n",
              "      <div>\n",
              "<style scoped>\n",
              "    .dataframe tbody tr th:only-of-type {\n",
              "        vertical-align: middle;\n",
              "    }\n",
              "\n",
              "    .dataframe tbody tr th {\n",
              "        vertical-align: top;\n",
              "    }\n",
              "\n",
              "    .dataframe thead th {\n",
              "        text-align: right;\n",
              "    }\n",
              "</style>\n",
              "<table border=\"1\" class=\"dataframe\">\n",
              "  <thead>\n",
              "    <tr style=\"text-align: right;\">\n",
              "      <th></th>\n",
              "      <th>id</th>\n",
              "      <th>separation_type</th>\n",
              "      <th>cease_date</th>\n",
              "      <th>dete_start_date</th>\n",
              "      <th>role_start_date</th>\n",
              "      <th>position</th>\n",
              "      <th>classification</th>\n",
              "      <th>region</th>\n",
              "      <th>business_unit</th>\n",
              "      <th>employment_status</th>\n",
              "      <th>career_move_to_public_sector</th>\n",
              "      <th>career_move_to_private_sector</th>\n",
              "      <th>interpersonal_conflicts</th>\n",
              "      <th>job_dissatisfaction</th>\n",
              "      <th>dissatisfaction_with_the_department</th>\n",
              "      <th>physical_work_environment</th>\n",
              "      <th>lack_of_recognition</th>\n",
              "      <th>lack_of_job_security</th>\n",
              "      <th>work_location</th>\n",
              "      <th>employment_conditions</th>\n",
              "      <th>maternity/family</th>\n",
              "      <th>relocation</th>\n",
              "      <th>study/travel</th>\n",
              "      <th>ill_health</th>\n",
              "      <th>traumatic_incident</th>\n",
              "      <th>work_life_balance</th>\n",
              "      <th>workload</th>\n",
              "      <th>none_of_the_above</th>\n",
              "      <th>gender</th>\n",
              "      <th>age</th>\n",
              "      <th>aboriginal</th>\n",
              "      <th>torres_strait</th>\n",
              "      <th>south_sea</th>\n",
              "      <th>disability</th>\n",
              "      <th>nesb</th>\n",
              "    </tr>\n",
              "  </thead>\n",
              "  <tbody>\n",
              "    <tr>\n",
              "      <th>3</th>\n",
              "      <td>4</td>\n",
              "      <td>Resignation</td>\n",
              "      <td>2012</td>\n",
              "      <td>2005</td>\n",
              "      <td>2006</td>\n",
              "      <td>Teacher</td>\n",
              "      <td>Primary</td>\n",
              "      <td>Central Queensland</td>\n",
              "      <td>NaN</td>\n",
              "      <td>Permanent Full-time</td>\n",
              "      <td>False</td>\n",
              "      <td>True</td>\n",
              "      <td>False</td>\n",
              "      <td>False</td>\n",
              "      <td>False</td>\n",
              "      <td>False</td>\n",
              "      <td>False</td>\n",
              "      <td>False</td>\n",
              "      <td>False</td>\n",
              "      <td>False</td>\n",
              "      <td>False</td>\n",
              "      <td>False</td>\n",
              "      <td>False</td>\n",
              "      <td>False</td>\n",
              "      <td>False</td>\n",
              "      <td>False</td>\n",
              "      <td>False</td>\n",
              "      <td>False</td>\n",
              "      <td>Female</td>\n",
              "      <td>36-40</td>\n",
              "      <td>NaN</td>\n",
              "      <td>NaN</td>\n",
              "      <td>NaN</td>\n",
              "      <td>NaN</td>\n",
              "      <td>NaN</td>\n",
              "    </tr>\n",
              "    <tr>\n",
              "      <th>5</th>\n",
              "      <td>6</td>\n",
              "      <td>Resignation</td>\n",
              "      <td>2012</td>\n",
              "      <td>1994</td>\n",
              "      <td>1997</td>\n",
              "      <td>Guidance Officer</td>\n",
              "      <td>NaN</td>\n",
              "      <td>Central Office</td>\n",
              "      <td>Education Queensland</td>\n",
              "      <td>Permanent Full-time</td>\n",
              "      <td>False</td>\n",
              "      <td>True</td>\n",
              "      <td>False</td>\n",
              "      <td>False</td>\n",
              "      <td>False</td>\n",
              "      <td>False</td>\n",
              "      <td>False</td>\n",
              "      <td>False</td>\n",
              "      <td>False</td>\n",
              "      <td>True</td>\n",
              "      <td>True</td>\n",
              "      <td>False</td>\n",
              "      <td>False</td>\n",
              "      <td>False</td>\n",
              "      <td>False</td>\n",
              "      <td>False</td>\n",
              "      <td>False</td>\n",
              "      <td>False</td>\n",
              "      <td>Female</td>\n",
              "      <td>41-45</td>\n",
              "      <td>NaN</td>\n",
              "      <td>NaN</td>\n",
              "      <td>NaN</td>\n",
              "      <td>NaN</td>\n",
              "      <td>NaN</td>\n",
              "    </tr>\n",
              "    <tr>\n",
              "      <th>8</th>\n",
              "      <td>9</td>\n",
              "      <td>Resignation</td>\n",
              "      <td>2012</td>\n",
              "      <td>2009</td>\n",
              "      <td>2009</td>\n",
              "      <td>Teacher</td>\n",
              "      <td>Secondary</td>\n",
              "      <td>North Queensland</td>\n",
              "      <td>NaN</td>\n",
              "      <td>Permanent Full-time</td>\n",
              "      <td>False</td>\n",
              "      <td>True</td>\n",
              "      <td>False</td>\n",
              "      <td>False</td>\n",
              "      <td>False</td>\n",
              "      <td>False</td>\n",
              "      <td>False</td>\n",
              "      <td>False</td>\n",
              "      <td>False</td>\n",
              "      <td>False</td>\n",
              "      <td>False</td>\n",
              "      <td>False</td>\n",
              "      <td>False</td>\n",
              "      <td>False</td>\n",
              "      <td>False</td>\n",
              "      <td>False</td>\n",
              "      <td>False</td>\n",
              "      <td>False</td>\n",
              "      <td>Female</td>\n",
              "      <td>31-35</td>\n",
              "      <td>NaN</td>\n",
              "      <td>NaN</td>\n",
              "      <td>NaN</td>\n",
              "      <td>NaN</td>\n",
              "      <td>NaN</td>\n",
              "    </tr>\n",
              "    <tr>\n",
              "      <th>9</th>\n",
              "      <td>10</td>\n",
              "      <td>Resignation</td>\n",
              "      <td>2012</td>\n",
              "      <td>1997</td>\n",
              "      <td>2008</td>\n",
              "      <td>Teacher Aide</td>\n",
              "      <td>NaN</td>\n",
              "      <td>Not Stated</td>\n",
              "      <td>NaN</td>\n",
              "      <td>Permanent Part-time</td>\n",
              "      <td>False</td>\n",
              "      <td>False</td>\n",
              "      <td>True</td>\n",
              "      <td>True</td>\n",
              "      <td>True</td>\n",
              "      <td>False</td>\n",
              "      <td>False</td>\n",
              "      <td>False</td>\n",
              "      <td>False</td>\n",
              "      <td>False</td>\n",
              "      <td>False</td>\n",
              "      <td>False</td>\n",
              "      <td>False</td>\n",
              "      <td>False</td>\n",
              "      <td>False</td>\n",
              "      <td>False</td>\n",
              "      <td>False</td>\n",
              "      <td>False</td>\n",
              "      <td>Female</td>\n",
              "      <td>46-50</td>\n",
              "      <td>NaN</td>\n",
              "      <td>NaN</td>\n",
              "      <td>NaN</td>\n",
              "      <td>NaN</td>\n",
              "      <td>NaN</td>\n",
              "    </tr>\n",
              "    <tr>\n",
              "      <th>11</th>\n",
              "      <td>12</td>\n",
              "      <td>Resignation</td>\n",
              "      <td>2012</td>\n",
              "      <td>2009</td>\n",
              "      <td>2009</td>\n",
              "      <td>Teacher</td>\n",
              "      <td>Secondary</td>\n",
              "      <td>Far North Queensland</td>\n",
              "      <td>NaN</td>\n",
              "      <td>Permanent Full-time</td>\n",
              "      <td>False</td>\n",
              "      <td>False</td>\n",
              "      <td>False</td>\n",
              "      <td>False</td>\n",
              "      <td>False</td>\n",
              "      <td>False</td>\n",
              "      <td>False</td>\n",
              "      <td>False</td>\n",
              "      <td>False</td>\n",
              "      <td>False</td>\n",
              "      <td>True</td>\n",
              "      <td>True</td>\n",
              "      <td>False</td>\n",
              "      <td>False</td>\n",
              "      <td>False</td>\n",
              "      <td>False</td>\n",
              "      <td>False</td>\n",
              "      <td>False</td>\n",
              "      <td>Male</td>\n",
              "      <td>31-35</td>\n",
              "      <td>NaN</td>\n",
              "      <td>NaN</td>\n",
              "      <td>NaN</td>\n",
              "      <td>NaN</td>\n",
              "      <td>NaN</td>\n",
              "    </tr>\n",
              "  </tbody>\n",
              "</table>\n",
              "</div>\n",
              "      <button class=\"colab-df-convert\" onclick=\"convertToInteractive('df-76ca98ae-642d-4b85-9678-85452e3e7d0c')\"\n",
              "              title=\"Convert this dataframe to an interactive table.\"\n",
              "              style=\"display:none;\">\n",
              "        \n",
              "  <svg xmlns=\"http://www.w3.org/2000/svg\" height=\"24px\"viewBox=\"0 0 24 24\"\n",
              "       width=\"24px\">\n",
              "    <path d=\"M0 0h24v24H0V0z\" fill=\"none\"/>\n",
              "    <path d=\"M18.56 5.44l.94 2.06.94-2.06 2.06-.94-2.06-.94-.94-2.06-.94 2.06-2.06.94zm-11 1L8.5 8.5l.94-2.06 2.06-.94-2.06-.94L8.5 2.5l-.94 2.06-2.06.94zm10 10l.94 2.06.94-2.06 2.06-.94-2.06-.94-.94-2.06-.94 2.06-2.06.94z\"/><path d=\"M17.41 7.96l-1.37-1.37c-.4-.4-.92-.59-1.43-.59-.52 0-1.04.2-1.43.59L10.3 9.45l-7.72 7.72c-.78.78-.78 2.05 0 2.83L4 21.41c.39.39.9.59 1.41.59.51 0 1.02-.2 1.41-.59l7.78-7.78 2.81-2.81c.8-.78.8-2.07 0-2.86zM5.41 20L4 18.59l7.72-7.72 1.47 1.35L5.41 20z\"/>\n",
              "  </svg>\n",
              "      </button>\n",
              "      \n",
              "  <style>\n",
              "    .colab-df-container {\n",
              "      display:flex;\n",
              "      flex-wrap:wrap;\n",
              "      gap: 12px;\n",
              "    }\n",
              "\n",
              "    .colab-df-convert {\n",
              "      background-color: #E8F0FE;\n",
              "      border: none;\n",
              "      border-radius: 50%;\n",
              "      cursor: pointer;\n",
              "      display: none;\n",
              "      fill: #1967D2;\n",
              "      height: 32px;\n",
              "      padding: 0 0 0 0;\n",
              "      width: 32px;\n",
              "    }\n",
              "\n",
              "    .colab-df-convert:hover {\n",
              "      background-color: #E2EBFA;\n",
              "      box-shadow: 0px 1px 2px rgba(60, 64, 67, 0.3), 0px 1px 3px 1px rgba(60, 64, 67, 0.15);\n",
              "      fill: #174EA6;\n",
              "    }\n",
              "\n",
              "    [theme=dark] .colab-df-convert {\n",
              "      background-color: #3B4455;\n",
              "      fill: #D2E3FC;\n",
              "    }\n",
              "\n",
              "    [theme=dark] .colab-df-convert:hover {\n",
              "      background-color: #434B5C;\n",
              "      box-shadow: 0px 1px 3px 1px rgba(0, 0, 0, 0.15);\n",
              "      filter: drop-shadow(0px 1px 2px rgba(0, 0, 0, 0.3));\n",
              "      fill: #FFFFFF;\n",
              "    }\n",
              "  </style>\n",
              "\n",
              "      <script>\n",
              "        const buttonEl =\n",
              "          document.querySelector('#df-76ca98ae-642d-4b85-9678-85452e3e7d0c button.colab-df-convert');\n",
              "        buttonEl.style.display =\n",
              "          google.colab.kernel.accessAllowed ? 'block' : 'none';\n",
              "\n",
              "        async function convertToInteractive(key) {\n",
              "          const element = document.querySelector('#df-76ca98ae-642d-4b85-9678-85452e3e7d0c');\n",
              "          const dataTable =\n",
              "            await google.colab.kernel.invokeFunction('convertToInteractive',\n",
              "                                                     [key], {});\n",
              "          if (!dataTable) return;\n",
              "\n",
              "          const docLinkHtml = 'Like what you see? Visit the ' +\n",
              "            '<a target=\"_blank\" href=https://colab.research.google.com/notebooks/data_table.ipynb>data table notebook</a>'\n",
              "            + ' to learn more about interactive tables.';\n",
              "          element.innerHTML = '';\n",
              "          dataTable['output_type'] = 'display_data';\n",
              "          await google.colab.output.renderOutput(dataTable, element);\n",
              "          const docLink = document.createElement('div');\n",
              "          docLink.innerHTML = docLinkHtml;\n",
              "          element.appendChild(docLink);\n",
              "        }\n",
              "      </script>\n",
              "    </div>\n",
              "  </div>\n",
              "  "
            ],
            "text/plain": [
              "    id separation_type cease_date  ... south_sea disability nesb\n",
              "3    4     Resignation       2012  ...       NaN        NaN  NaN\n",
              "5    6     Resignation       2012  ...       NaN        NaN  NaN\n",
              "8    9     Resignation       2012  ...       NaN        NaN  NaN\n",
              "9   10     Resignation       2012  ...       NaN        NaN  NaN\n",
              "11  12     Resignation       2012  ...       NaN        NaN  NaN\n",
              "\n",
              "[5 rows x 35 columns]"
            ]
          },
          "metadata": {},
          "execution_count": 23
        }
      ],
      "source": [
        "dete_resignations.head(5)"
      ]
    },
    {
      "cell_type": "code",
      "execution_count": null,
      "metadata": {
        "colab": {
          "base_uri": "https://localhost:8080/"
        },
        "id": "Hsj1GgilIchf",
        "outputId": "10ab3b7e-8b9d-42cb-9b9e-c49f0ed98be4"
      },
      "outputs": [
        {
          "output_type": "execute_result",
          "data": {
            "text/plain": [
              "2013          146\n",
              "2012          129\n",
              "2014           22\n",
              "Not Stated     11\n",
              "2010            2\n",
              "2006            1\n",
              "Name: cease_date, dtype: int64"
            ]
          },
          "metadata": {},
          "execution_count": 24
        }
      ],
      "source": [
        "dete_resignations[\"cease_date\"].value_counts()"
      ]
    },
    {
      "cell_type": "code",
      "execution_count": null,
      "metadata": {
        "id": "LNeBTWUzIchf"
      },
      "outputs": [],
      "source": [
        "dete_resignations = dete_resignations[dete_resignations[\"cease_date\"].str.contains(\"Not Stated\")==False]\n",
        "\n",
        "dete_resignations = dete_resignations[dete_resignations[\"dete_start_date\"].str.contains(\"Not Stated\")==False]"
      ]
    },
    {
      "cell_type": "code",
      "execution_count": null,
      "metadata": {
        "colab": {
          "base_uri": "https://localhost:8080/"
        },
        "id": "S5LV0Mu2Ichf",
        "outputId": "04ac7035-e7fb-4cb1-f446-abfeb3601d99"
      },
      "outputs": [
        {
          "output_type": "execute_result",
          "data": {
            "text/plain": [
              "2013    133\n",
              "2012    115\n",
              "2014     22\n",
              "2010      2\n",
              "2006      1\n",
              "Name: cease_date, dtype: int64"
            ]
          },
          "metadata": {},
          "execution_count": 26
        }
      ],
      "source": [
        "# Check if the \"Not stated\" rows had been removed\n",
        "dete_resignations[\"cease_date\"].value_counts()"
      ]
    },
    {
      "cell_type": "code",
      "execution_count": null,
      "metadata": {
        "id": "o6Sybk6kIchg"
      },
      "outputs": [],
      "source": [
        "tafe_resignations = tafe_survey_updated[tafe_survey_updated['separation_type'] == 'Resignation'].copy()"
      ]
    },
    {
      "cell_type": "code",
      "execution_count": null,
      "metadata": {
        "colab": {
          "base_uri": "https://localhost:8080/"
        },
        "id": "oJUdMs17Ichg",
        "outputId": "68f24754-dd28-4351-bbfd-f52cfad04a1e"
      },
      "outputs": [
        {
          "output_type": "execute_result",
          "data": {
            "text/plain": [
              "2011.0    116\n",
              "2012.0     94\n",
              "2010.0     68\n",
              "2013.0     55\n",
              "2009.0      2\n",
              "Name: cease_date, dtype: int64"
            ]
          },
          "metadata": {},
          "execution_count": 28
        }
      ],
      "source": [
        "tafe_resignations['cease_date'].value_counts()"
      ]
    },
    {
      "cell_type": "markdown",
      "metadata": {
        "id": "OrxVRESqIchg"
      },
      "source": [
        "# Calculating service time\n",
        "\n",
        "It is noiticable that the tafe_resignations dataframe already contains a `service` column, which we renamed to institute_service. In order to analyze both surveys together, we'll have to create a corresponding institute_service column in dete_resignations."
      ]
    },
    {
      "cell_type": "code",
      "execution_count": null,
      "metadata": {
        "colab": {
          "base_uri": "https://localhost:8080/"
        },
        "id": "MN9ws2rNIchg",
        "outputId": "524954f4-6212-4d42-a072-5fd848d420bc"
      },
      "outputs": [
        {
          "output_type": "execute_result",
          "data": {
            "text/plain": [
              " 5.0     23\n",
              " 1.0     22\n",
              " 3.0     20\n",
              "-0.0     20\n",
              " 6.0     17\n",
              " 4.0     16\n",
              " 2.0     14\n",
              " 9.0     14\n",
              " 7.0     13\n",
              " 13.0     8\n",
              " 8.0      8\n",
              " 20.0     7\n",
              " 15.0     7\n",
              " 17.0     6\n",
              " 10.0     6\n",
              " 22.0     6\n",
              " 12.0     6\n",
              " 14.0     6\n",
              " 18.0     5\n",
              " 16.0     5\n",
              " 24.0     4\n",
              " 23.0     4\n",
              " 11.0     4\n",
              " 32.0     3\n",
              " 39.0     3\n",
              " 21.0     3\n",
              " 19.0     3\n",
              " 25.0     2\n",
              " 28.0     2\n",
              " 26.0     2\n",
              " 30.0     2\n",
              " 36.0     2\n",
              " 33.0     1\n",
              " 35.0     1\n",
              " 49.0     1\n",
              " 38.0     1\n",
              " 41.0     1\n",
              " 27.0     1\n",
              " 42.0     1\n",
              " 29.0     1\n",
              " 34.0     1\n",
              " 31.0     1\n",
              "Name: institute_service, dtype: int64"
            ]
          },
          "metadata": {},
          "execution_count": 29
        }
      ],
      "source": [
        "dete_resignations['institute_service'] = (dete_resignations['dete_start_date'].astype(float)-dete_resignations['cease_date'].astype(float))*(-1)\n",
        "dete_resignations['institute_service'].value_counts()"
      ]
    },
    {
      "cell_type": "markdown",
      "metadata": {
        "id": "cL1o0-s_Ichg"
      },
      "source": [
        "Excluding the null values of the institute_service field from the DETE dataset, we observe that 42% of the employees worked at most 5 years."
      ]
    },
    {
      "cell_type": "code",
      "execution_count": null,
      "metadata": {
        "colab": {
          "base_uri": "https://localhost:8080/"
        },
        "id": "iGuYhPrbIchh",
        "outputId": "ce052e5f-5e37-4146-c457-d98c9cf4060b"
      },
      "outputs": [
        {
          "output_type": "execute_result",
          "data": {
            "text/plain": [
              "Less than 1 year      73\n",
              "1-2                   64\n",
              "3-4                   63\n",
              "NaN                   50\n",
              "5-6                   33\n",
              "11-20                 26\n",
              "7-10                  21\n",
              "More than 20 years    10\n",
              "Name: institute_service, dtype: int64"
            ]
          },
          "metadata": {},
          "execution_count": 30
        }
      ],
      "source": [
        "tafe_resignations['institute_service'].value_counts(dropna = False)"
      ]
    },
    {
      "cell_type": "code",
      "execution_count": null,
      "metadata": {
        "colab": {
          "base_uri": "https://localhost:8080/"
        },
        "id": "fMHmC0bRIchh",
        "outputId": "4a2a72ee-fdd1-4c77-fa86-a498b332b260"
      },
      "outputs": [
        {
          "output_type": "stream",
          "name": "stdout",
          "text": [
            "<class 'pandas.core.frame.DataFrame'>\n",
            "Int64Index: 340 entries, 3 to 701\n",
            "Data columns (total 23 columns):\n",
            " #   Column                                               Non-Null Count  Dtype  \n",
            "---  ------                                               --------------  -----  \n",
            " 0   id                                                   340 non-null    float64\n",
            " 1   Institute                                            340 non-null    object \n",
            " 2   WorkArea                                             340 non-null    object \n",
            " 3   cease_date                                           335 non-null    float64\n",
            " 4   separation_type                                      340 non-null    object \n",
            " 5   Contributing Factors. Career Move - Public Sector    332 non-null    object \n",
            " 6   Contributing Factors. Career Move - Private Sector   332 non-null    object \n",
            " 7   Contributing Factors. Career Move - Self-employment  332 non-null    object \n",
            " 8   Contributing Factors. Ill Health                     332 non-null    object \n",
            " 9   Contributing Factors. Maternity/Family               332 non-null    object \n",
            " 10  factors_diss                                         332 non-null    object \n",
            " 11  factors_job_diss                                     332 non-null    object \n",
            " 12  Contributing Factors. Interpersonal Conflict         332 non-null    object \n",
            " 13  Contributing Factors. Study                          332 non-null    object \n",
            " 14  Contributing Factors. Travel                         332 non-null    object \n",
            " 15  Contributing Factors. Other                          332 non-null    object \n",
            " 16  Contributing Factors. NONE                           332 non-null    object \n",
            " 17  gender                                               290 non-null    object \n",
            " 18  age                                                  290 non-null    object \n",
            " 19  employment_status                                    290 non-null    object \n",
            " 20  position                                             290 non-null    object \n",
            " 21  institute_service                                    290 non-null    object \n",
            " 22  role_service                                         290 non-null    object \n",
            "dtypes: float64(2), object(21)\n",
            "memory usage: 63.8+ KB\n"
          ]
        }
      ],
      "source": [
        "tafe_resignations.info()"
      ]
    },
    {
      "cell_type": "markdown",
      "metadata": {
        "id": "bOLDTRAjIchh"
      },
      "source": [
        "# Identification of Dissatisfied Employees\n",
        "Also, we will work with dete_resignations and tafe_resignations as the dataset has data corresponding to resigned employees only. In dete_resignations, I think the following columns contribute to the employee's decision:\n",
        "\n",
        "- 13 Job dissatisfaction\n",
        "- 14 Dissatisfaction with the department\n",
        "- 15 Physical work environment\n",
        "- 16 Lack of recognition\n",
        "- 17 Lack of job security\n",
        "- 18 Work location\n",
        "- 19 Employment conditions\n",
        "- 20 Maternity/family\n",
        "- 21 Relocation\n",
        "- 22 Study/Travel\n",
        "- 23 Ill Health\n",
        "- 24 Traumatic incident\n",
        "- 25 Work life balance\n",
        "- 26 Workload"
      ]
    },
    {
      "cell_type": "code",
      "execution_count": null,
      "metadata": {
        "colab": {
          "base_uri": "https://localhost:8080/"
        },
        "id": "EydKw843Ichh",
        "outputId": "42553a84-8f98-41ae-9327-803141034204"
      },
      "outputs": [
        {
          "output_type": "execute_result",
          "data": {
            "text/plain": [
              "True     137\n",
              "False    136\n",
              "Name: dissatisfied, dtype: int64"
            ]
          },
          "metadata": {},
          "execution_count": 32
        }
      ],
      "source": [
        "# we will create a column 'dissatisfied' which will be of Boolean type\n",
        "# the role of 'any' is to return whether any element is True\n",
        "dete_resignations['dissatisfied'] = dete_resignations[['job_dissatisfaction',\n",
        "       'dissatisfaction_with_the_department', 'physical_work_environment',\n",
        "       'lack_of_recognition', 'lack_of_job_security', 'work_location',\n",
        "       'employment_conditions', 'work_life_balance',\n",
        "       'workload']].any(1,skipna=False)\n",
        "dete_resignations_up = dete_resignations.copy()\n",
        "dete_resignations_up['dissatisfied'].value_counts(dropna = False)"
      ]
    },
    {
      "cell_type": "code",
      "source": [
        "def update_val(val):\n",
        "    \"\"\"Update the value to boolean or np.nan.\n",
        "\n",
        "    Args:\n",
        "      val: The value to be updated.\n",
        "\n",
        "    Returns:\n",
        "      bool or np.nan.\n",
        "    \"\"\"\n",
        "    if val == '-':\n",
        "        return False\n",
        "    elif pd.isnull(val):\n",
        "        return np.nan\n",
        "    else:\n",
        "        return True"
      ],
      "metadata": {
        "id": "8GoIvisMMn7x"
      },
      "execution_count": null,
      "outputs": []
    },
    {
      "cell_type": "code",
      "execution_count": null,
      "metadata": {
        "colab": {
          "base_uri": "https://localhost:8080/"
        },
        "id": "R5lOu5hVIchh",
        "outputId": "3aeb2aae-bf98-42af-92a4-92beeb138ad5"
      },
      "outputs": [
        {
          "output_type": "execute_result",
          "data": {
            "text/plain": [
              "False    241\n",
              "True      99\n",
              "Name: dissatisfied, dtype: int64"
            ]
          },
          "metadata": {},
          "execution_count": 34
        }
      ],
      "source": [
        "# similar to the above, but this is with tafe dataframe\n",
        "tafe_resignations['dissatisfied'] = tafe_resignations[['factors_diss','factors_job_diss']].applymap(update_val).any(1,skipna=False)\n",
        "tafe_resignations['dissatisfied'].head()\n",
        "tafe_resignations_up = tafe_resignations.copy()\n",
        "tafe_resignations_up['dissatisfied'].value_counts(dropna = False)"
      ]
    },
    {
      "cell_type": "markdown",
      "metadata": {
        "id": "cZ4ysFc7Ichi"
      },
      "source": [
        "# Combining DataFrames\n",
        "We have performed various actions to clean and filter our data. Now we will be reeady to merge iot. Also, as we practiced in some lessons before, while merging it is better that each dataset has it as own identity. We have given an identity to each dataste by dedicating a column with their title."
      ]
    },
    {
      "cell_type": "code",
      "execution_count": null,
      "metadata": {
        "id": "FL-0_6DXIchi"
      },
      "outputs": [],
      "source": [
        "dete_resignations_up['institute'] = 'DETE'\n",
        "tafe_resignations_up['institute'] = 'TAFE'"
      ]
    },
    {
      "cell_type": "code",
      "execution_count": null,
      "metadata": {
        "colab": {
          "base_uri": "https://localhost:8080/"
        },
        "id": "EbLKfLriIchi",
        "outputId": "867bb450-1bf1-4c25-c594-a9e1cb5c7843"
      },
      "outputs": [
        {
          "output_type": "execute_result",
          "data": {
            "text/plain": [
              "(613, 53)"
            ]
          },
          "metadata": {},
          "execution_count": 36
        }
      ],
      "source": [
        "# combining\n",
        "combined = pd.concat([dete_resignations_up, tafe_resignations_up], ignore_index=True)\n",
        "combined.shape"
      ]
    },
    {
      "cell_type": "code",
      "execution_count": null,
      "metadata": {
        "colab": {
          "base_uri": "https://localhost:8080/",
          "height": 423
        },
        "id": "uNL4BMSTIchi",
        "outputId": "abb1bba9-b35f-46cd-86d7-c40348c2fd4c"
      },
      "outputs": [
        {
          "output_type": "execute_result",
          "data": {
            "text/html": [
              "\n",
              "  <div id=\"df-2608d7f3-6600-4bca-86ae-2facd7e067f2\">\n",
              "    <div class=\"colab-df-container\">\n",
              "      <div>\n",
              "<style scoped>\n",
              "    .dataframe tbody tr th:only-of-type {\n",
              "        vertical-align: middle;\n",
              "    }\n",
              "\n",
              "    .dataframe tbody tr th {\n",
              "        vertical-align: top;\n",
              "    }\n",
              "\n",
              "    .dataframe thead th {\n",
              "        text-align: right;\n",
              "    }\n",
              "</style>\n",
              "<table border=\"1\" class=\"dataframe\">\n",
              "  <thead>\n",
              "    <tr style=\"text-align: right;\">\n",
              "      <th></th>\n",
              "      <th>id</th>\n",
              "      <th>separation_type</th>\n",
              "      <th>cease_date</th>\n",
              "      <th>position</th>\n",
              "      <th>employment_status</th>\n",
              "      <th>gender</th>\n",
              "      <th>age</th>\n",
              "      <th>institute_service</th>\n",
              "      <th>dissatisfied</th>\n",
              "      <th>institute</th>\n",
              "    </tr>\n",
              "  </thead>\n",
              "  <tbody>\n",
              "    <tr>\n",
              "      <th>0</th>\n",
              "      <td>4.000000e+00</td>\n",
              "      <td>Resignation</td>\n",
              "      <td>2012</td>\n",
              "      <td>Teacher</td>\n",
              "      <td>Permanent Full-time</td>\n",
              "      <td>Female</td>\n",
              "      <td>36-40</td>\n",
              "      <td>7.0</td>\n",
              "      <td>False</td>\n",
              "      <td>DETE</td>\n",
              "    </tr>\n",
              "    <tr>\n",
              "      <th>1</th>\n",
              "      <td>6.000000e+00</td>\n",
              "      <td>Resignation</td>\n",
              "      <td>2012</td>\n",
              "      <td>Guidance Officer</td>\n",
              "      <td>Permanent Full-time</td>\n",
              "      <td>Female</td>\n",
              "      <td>41-45</td>\n",
              "      <td>18.0</td>\n",
              "      <td>True</td>\n",
              "      <td>DETE</td>\n",
              "    </tr>\n",
              "    <tr>\n",
              "      <th>2</th>\n",
              "      <td>9.000000e+00</td>\n",
              "      <td>Resignation</td>\n",
              "      <td>2012</td>\n",
              "      <td>Teacher</td>\n",
              "      <td>Permanent Full-time</td>\n",
              "      <td>Female</td>\n",
              "      <td>31-35</td>\n",
              "      <td>3.0</td>\n",
              "      <td>False</td>\n",
              "      <td>DETE</td>\n",
              "    </tr>\n",
              "    <tr>\n",
              "      <th>3</th>\n",
              "      <td>1.000000e+01</td>\n",
              "      <td>Resignation</td>\n",
              "      <td>2012</td>\n",
              "      <td>Teacher Aide</td>\n",
              "      <td>Permanent Part-time</td>\n",
              "      <td>Female</td>\n",
              "      <td>46-50</td>\n",
              "      <td>15.0</td>\n",
              "      <td>True</td>\n",
              "      <td>DETE</td>\n",
              "    </tr>\n",
              "    <tr>\n",
              "      <th>4</th>\n",
              "      <td>1.200000e+01</td>\n",
              "      <td>Resignation</td>\n",
              "      <td>2012</td>\n",
              "      <td>Teacher</td>\n",
              "      <td>Permanent Full-time</td>\n",
              "      <td>Male</td>\n",
              "      <td>31-35</td>\n",
              "      <td>3.0</td>\n",
              "      <td>False</td>\n",
              "      <td>DETE</td>\n",
              "    </tr>\n",
              "    <tr>\n",
              "      <th>...</th>\n",
              "      <td>...</td>\n",
              "      <td>...</td>\n",
              "      <td>...</td>\n",
              "      <td>...</td>\n",
              "      <td>...</td>\n",
              "      <td>...</td>\n",
              "      <td>...</td>\n",
              "      <td>...</td>\n",
              "      <td>...</td>\n",
              "      <td>...</td>\n",
              "    </tr>\n",
              "    <tr>\n",
              "      <th>608</th>\n",
              "      <td>6.350660e+17</td>\n",
              "      <td>Resignation</td>\n",
              "      <td>2013.0</td>\n",
              "      <td>Operational (OO)</td>\n",
              "      <td>Temporary Full-time</td>\n",
              "      <td>Male</td>\n",
              "      <td>21  25</td>\n",
              "      <td>5-6</td>\n",
              "      <td>False</td>\n",
              "      <td>TAFE</td>\n",
              "    </tr>\n",
              "    <tr>\n",
              "      <th>609</th>\n",
              "      <td>6.350668e+17</td>\n",
              "      <td>Resignation</td>\n",
              "      <td>2013.0</td>\n",
              "      <td>Teacher (including LVT)</td>\n",
              "      <td>Temporary Full-time</td>\n",
              "      <td>Male</td>\n",
              "      <td>51-55</td>\n",
              "      <td>1-2</td>\n",
              "      <td>False</td>\n",
              "      <td>TAFE</td>\n",
              "    </tr>\n",
              "    <tr>\n",
              "      <th>610</th>\n",
              "      <td>6.350677e+17</td>\n",
              "      <td>Resignation</td>\n",
              "      <td>2013.0</td>\n",
              "      <td>NaN</td>\n",
              "      <td>NaN</td>\n",
              "      <td>NaN</td>\n",
              "      <td>NaN</td>\n",
              "      <td>NaN</td>\n",
              "      <td>False</td>\n",
              "      <td>TAFE</td>\n",
              "    </tr>\n",
              "    <tr>\n",
              "      <th>611</th>\n",
              "      <td>6.350704e+17</td>\n",
              "      <td>Resignation</td>\n",
              "      <td>2013.0</td>\n",
              "      <td>Teacher (including LVT)</td>\n",
              "      <td>Permanent Full-time</td>\n",
              "      <td>Female</td>\n",
              "      <td>51-55</td>\n",
              "      <td>5-6</td>\n",
              "      <td>False</td>\n",
              "      <td>TAFE</td>\n",
              "    </tr>\n",
              "    <tr>\n",
              "      <th>612</th>\n",
              "      <td>6.350730e+17</td>\n",
              "      <td>Resignation</td>\n",
              "      <td>2013.0</td>\n",
              "      <td>Administration (AO)</td>\n",
              "      <td>Contract/casual</td>\n",
              "      <td>Female</td>\n",
              "      <td>26  30</td>\n",
              "      <td>3-4</td>\n",
              "      <td>False</td>\n",
              "      <td>TAFE</td>\n",
              "    </tr>\n",
              "  </tbody>\n",
              "</table>\n",
              "<p>613 rows × 10 columns</p>\n",
              "</div>\n",
              "      <button class=\"colab-df-convert\" onclick=\"convertToInteractive('df-2608d7f3-6600-4bca-86ae-2facd7e067f2')\"\n",
              "              title=\"Convert this dataframe to an interactive table.\"\n",
              "              style=\"display:none;\">\n",
              "        \n",
              "  <svg xmlns=\"http://www.w3.org/2000/svg\" height=\"24px\"viewBox=\"0 0 24 24\"\n",
              "       width=\"24px\">\n",
              "    <path d=\"M0 0h24v24H0V0z\" fill=\"none\"/>\n",
              "    <path d=\"M18.56 5.44l.94 2.06.94-2.06 2.06-.94-2.06-.94-.94-2.06-.94 2.06-2.06.94zm-11 1L8.5 8.5l.94-2.06 2.06-.94-2.06-.94L8.5 2.5l-.94 2.06-2.06.94zm10 10l.94 2.06.94-2.06 2.06-.94-2.06-.94-.94-2.06-.94 2.06-2.06.94z\"/><path d=\"M17.41 7.96l-1.37-1.37c-.4-.4-.92-.59-1.43-.59-.52 0-1.04.2-1.43.59L10.3 9.45l-7.72 7.72c-.78.78-.78 2.05 0 2.83L4 21.41c.39.39.9.59 1.41.59.51 0 1.02-.2 1.41-.59l7.78-7.78 2.81-2.81c.8-.78.8-2.07 0-2.86zM5.41 20L4 18.59l7.72-7.72 1.47 1.35L5.41 20z\"/>\n",
              "  </svg>\n",
              "      </button>\n",
              "      \n",
              "  <style>\n",
              "    .colab-df-container {\n",
              "      display:flex;\n",
              "      flex-wrap:wrap;\n",
              "      gap: 12px;\n",
              "    }\n",
              "\n",
              "    .colab-df-convert {\n",
              "      background-color: #E8F0FE;\n",
              "      border: none;\n",
              "      border-radius: 50%;\n",
              "      cursor: pointer;\n",
              "      display: none;\n",
              "      fill: #1967D2;\n",
              "      height: 32px;\n",
              "      padding: 0 0 0 0;\n",
              "      width: 32px;\n",
              "    }\n",
              "\n",
              "    .colab-df-convert:hover {\n",
              "      background-color: #E2EBFA;\n",
              "      box-shadow: 0px 1px 2px rgba(60, 64, 67, 0.3), 0px 1px 3px 1px rgba(60, 64, 67, 0.15);\n",
              "      fill: #174EA6;\n",
              "    }\n",
              "\n",
              "    [theme=dark] .colab-df-convert {\n",
              "      background-color: #3B4455;\n",
              "      fill: #D2E3FC;\n",
              "    }\n",
              "\n",
              "    [theme=dark] .colab-df-convert:hover {\n",
              "      background-color: #434B5C;\n",
              "      box-shadow: 0px 1px 3px 1px rgba(0, 0, 0, 0.15);\n",
              "      filter: drop-shadow(0px 1px 2px rgba(0, 0, 0, 0.3));\n",
              "      fill: #FFFFFF;\n",
              "    }\n",
              "  </style>\n",
              "\n",
              "      <script>\n",
              "        const buttonEl =\n",
              "          document.querySelector('#df-2608d7f3-6600-4bca-86ae-2facd7e067f2 button.colab-df-convert');\n",
              "        buttonEl.style.display =\n",
              "          google.colab.kernel.accessAllowed ? 'block' : 'none';\n",
              "\n",
              "        async function convertToInteractive(key) {\n",
              "          const element = document.querySelector('#df-2608d7f3-6600-4bca-86ae-2facd7e067f2');\n",
              "          const dataTable =\n",
              "            await google.colab.kernel.invokeFunction('convertToInteractive',\n",
              "                                                     [key], {});\n",
              "          if (!dataTable) return;\n",
              "\n",
              "          const docLinkHtml = 'Like what you see? Visit the ' +\n",
              "            '<a target=\"_blank\" href=https://colab.research.google.com/notebooks/data_table.ipynb>data table notebook</a>'\n",
              "            + ' to learn more about interactive tables.';\n",
              "          element.innerHTML = '';\n",
              "          dataTable['output_type'] = 'display_data';\n",
              "          await google.colab.output.renderOutput(dataTable, element);\n",
              "          const docLink = document.createElement('div');\n",
              "          docLink.innerHTML = docLinkHtml;\n",
              "          element.appendChild(docLink);\n",
              "        }\n",
              "      </script>\n",
              "    </div>\n",
              "  </div>\n",
              "  "
            ],
            "text/plain": [
              "               id separation_type  ... dissatisfied institute\n",
              "0    4.000000e+00     Resignation  ...        False      DETE\n",
              "1    6.000000e+00     Resignation  ...         True      DETE\n",
              "2    9.000000e+00     Resignation  ...        False      DETE\n",
              "3    1.000000e+01     Resignation  ...         True      DETE\n",
              "4    1.200000e+01     Resignation  ...        False      DETE\n",
              "..            ...             ...  ...          ...       ...\n",
              "608  6.350660e+17     Resignation  ...        False      TAFE\n",
              "609  6.350668e+17     Resignation  ...        False      TAFE\n",
              "610  6.350677e+17     Resignation  ...        False      TAFE\n",
              "611  6.350704e+17     Resignation  ...        False      TAFE\n",
              "612  6.350730e+17     Resignation  ...        False      TAFE\n",
              "\n",
              "[613 rows x 10 columns]"
            ]
          },
          "metadata": {},
          "execution_count": 37
        }
      ],
      "source": [
        "# Drop columns with less than 500 non null values\n",
        "combined_updated = combined.dropna(thresh = 500, axis =1).copy()\n",
        "combined_updated"
      ]
    },
    {
      "cell_type": "markdown",
      "metadata": {
        "id": "ZfBKLcmpIchj"
      },
      "source": [
        "# Classifying Employees by Length of Service\n",
        "I classified employees according to their duration of work. Below is the classification:\n",
        "\n",
        "- New: Less than 3 years at a company\n",
        "- I’m Experienced: 3-6 years at a company\n",
        "- Established: 7-10 years at a company\n",
        "- Veteran: 11 or more years at a company"
      ]
    },
    {
      "cell_type": "code",
      "execution_count": null,
      "metadata": {
        "colab": {
          "base_uri": "https://localhost:8080/"
        },
        "id": "4SKLr-VKIchj",
        "outputId": "9ab6fe82-0eca-48f5-9686-e1dd7c90e1d5"
      },
      "outputs": [
        {
          "output_type": "execute_result",
          "data": {
            "text/plain": [
              "Less than 1 year      73\n",
              "1-2                   64\n",
              "3-4                   63\n",
              "NaN                   50\n",
              "5-6                   33\n",
              "11-20                 26\n",
              "5.0                   23\n",
              "1.0                   22\n",
              "7-10                  21\n",
              "3.0                   20\n",
              "-0.0                  20\n",
              "6.0                   17\n",
              "4.0                   16\n",
              "9.0                   14\n",
              "2.0                   14\n",
              "7.0                   13\n",
              "More than 20 years    10\n",
              "8.0                    8\n",
              "13.0                   8\n",
              "15.0                   7\n",
              "20.0                   7\n",
              "10.0                   6\n",
              "14.0                   6\n",
              "12.0                   6\n",
              "22.0                   6\n",
              "17.0                   6\n",
              "16.0                   5\n",
              "18.0                   5\n",
              "11.0                   4\n",
              "23.0                   4\n",
              "24.0                   4\n",
              "32.0                   3\n",
              "39.0                   3\n",
              "19.0                   3\n",
              "21.0                   3\n",
              "26.0                   2\n",
              "25.0                   2\n",
              "28.0                   2\n",
              "30.0                   2\n",
              "36.0                   2\n",
              "41.0                   1\n",
              "27.0                   1\n",
              "42.0                   1\n",
              "29.0                   1\n",
              "34.0                   1\n",
              "31.0                   1\n",
              "35.0                   1\n",
              "33.0                   1\n",
              "38.0                   1\n",
              "49.0                   1\n",
              "Name: institute_service, dtype: int64"
            ]
          },
          "metadata": {},
          "execution_count": 38
        }
      ],
      "source": [
        "# combined['institute_service'].astype('str')\n",
        "combined_updated['institute_service'].value_counts(dropna = False)"
      ]
    },
    {
      "cell_type": "code",
      "execution_count": null,
      "metadata": {
        "id": "x4p_Yfz3Ichj"
      },
      "outputs": [],
      "source": [
        "# Extract the years of service and convert the type to float\n",
        "combined_updated['institute_service_up'] = combined_updated['institute_service'].astype('str').str.extract(r'(\\d+)')\n",
        "combined_updated['institute_service_up'] = combined_updated['institute_service_up'].astype('float')"
      ]
    },
    {
      "cell_type": "code",
      "execution_count": null,
      "metadata": {
        "colab": {
          "base_uri": "https://localhost:8080/"
        },
        "id": "XXMb_IQMIchj",
        "outputId": "cc08c001-836c-4d66-c1f8-a1eb8f2ddfb3"
      },
      "outputs": [
        {
          "output_type": "execute_result",
          "data": {
            "text/plain": [
              "1.0     159\n",
              "3.0      83\n",
              "5.0      56\n",
              "7.0      34\n",
              "11.0     30\n",
              "0.0      20\n",
              "20.0     17\n",
              "6.0      17\n",
              "4.0      16\n",
              "9.0      14\n",
              "2.0      14\n",
              "13.0      8\n",
              "8.0       8\n",
              "15.0      7\n",
              "17.0      6\n",
              "10.0      6\n",
              "22.0      6\n",
              "14.0      6\n",
              "12.0      6\n",
              "18.0      5\n",
              "16.0      5\n",
              "24.0      4\n",
              "23.0      4\n",
              "21.0      3\n",
              "19.0      3\n",
              "39.0      3\n",
              "32.0      3\n",
              "25.0      2\n",
              "28.0      2\n",
              "26.0      2\n",
              "36.0      2\n",
              "30.0      2\n",
              "34.0      1\n",
              "27.0      1\n",
              "29.0      1\n",
              "42.0      1\n",
              "33.0      1\n",
              "41.0      1\n",
              "35.0      1\n",
              "49.0      1\n",
              "38.0      1\n",
              "31.0      1\n",
              "Name: institute_service_up, dtype: int64"
            ]
          },
          "metadata": {},
          "execution_count": 40
        }
      ],
      "source": [
        "# Check the years extracted are correct\n",
        "combined_updated['institute_service_up'].value_counts()"
      ]
    },
    {
      "cell_type": "code",
      "execution_count": null,
      "metadata": {
        "id": "j03eoicOIchk"
      },
      "outputs": [],
      "source": [
        "#Next, we'll map each value to one of the career stage definitions.\n",
        "\n",
        "def transform_service(val):\n",
        "    if val >= 11:\n",
        "        return \"Veteran\"\n",
        "    elif 7 <= val < 11:\n",
        "        return \"Established\"\n",
        "    elif 3 <= val < 7:\n",
        "        return \"Experienced\"\n",
        "    elif pd.isnull(val):\n",
        "        return np.nan\n",
        "    else:\n",
        "        return \"New\""
      ]
    },
    {
      "cell_type": "code",
      "execution_count": null,
      "metadata": {
        "id": "njmzLPUYIchk"
      },
      "outputs": [],
      "source": [
        "# Updating the new definition\n",
        "combined_updated['service_cat'] = combined_updated['institute_service_up'].apply(transform_service)"
      ]
    },
    {
      "cell_type": "code",
      "execution_count": null,
      "metadata": {
        "colab": {
          "base_uri": "https://localhost:8080/"
        },
        "id": "Hpay7tXBIchk",
        "outputId": "ea5ea016-e5b2-439c-a3b8-c3800efbf0eb"
      },
      "outputs": [
        {
          "output_type": "execute_result",
          "data": {
            "text/plain": [
              "0    Established\n",
              "1        Veteran\n",
              "2    Experienced\n",
              "3        Veteran\n",
              "4    Experienced\n",
              "Name: service_cat, dtype: object"
            ]
          },
          "metadata": {},
          "execution_count": 43
        }
      ],
      "source": [
        "# Check\n",
        "combined_updated['service_cat'].head()"
      ]
    },
    {
      "cell_type": "markdown",
      "metadata": {
        "id": "VxBBjMx6Ichk"
      },
      "source": [
        "# Perform analysis\n",
        "First some of the data in the dissatisfied columns are missing, it need to be filled in and then aggregated.\n",
        "\n",
        "Dissatisfied column consists of Boolean values, meaning they're either True or False. Methods such as the df.pivot_table() method actually treat Boolean values as integers, so a True value is considered to be 1 and a False value is considered to be 0. \n",
        "\n",
        "That means that the data can be aggregated and calculate the number of people in each group, the percentage of people in each group, etc."
      ]
    },
    {
      "cell_type": "code",
      "execution_count": null,
      "metadata": {
        "colab": {
          "base_uri": "https://localhost:8080/"
        },
        "id": "muDu-4b_Ichk",
        "outputId": "23841677-987e-4104-910d-55d9d3dab9db"
      },
      "outputs": [
        {
          "output_type": "execute_result",
          "data": {
            "text/plain": [
              "False    377\n",
              "True     236\n",
              "Name: dissatisfied, dtype: int64"
            ]
          },
          "metadata": {},
          "execution_count": 44
        }
      ],
      "source": [
        "combined_updated['dissatisfied'].value_counts().dropna(inplace=False)"
      ]
    },
    {
      "cell_type": "code",
      "execution_count": null,
      "metadata": {
        "id": "1ulrCAMzIchk"
      },
      "outputs": [],
      "source": [
        "# Replace missing values with the most frequent value, False\n",
        "combined_updated['dissatisfied'] = combined_updated['dissatisfied'].fillna(False)"
      ]
    },
    {
      "cell_type": "code",
      "execution_count": null,
      "metadata": {
        "colab": {
          "base_uri": "https://localhost:8080/",
          "height": 206
        },
        "id": "C_uLmFn0Ichl",
        "outputId": "154e8d0d-26a5-4087-ca85-c0f6b6f33ba4"
      },
      "outputs": [
        {
          "output_type": "execute_result",
          "data": {
            "text/html": [
              "\n",
              "  <div id=\"df-1a7afb49-758a-4116-add2-f26aa150c856\">\n",
              "    <div class=\"colab-df-container\">\n",
              "      <div>\n",
              "<style scoped>\n",
              "    .dataframe tbody tr th:only-of-type {\n",
              "        vertical-align: middle;\n",
              "    }\n",
              "\n",
              "    .dataframe tbody tr th {\n",
              "        vertical-align: top;\n",
              "    }\n",
              "\n",
              "    .dataframe thead th {\n",
              "        text-align: right;\n",
              "    }\n",
              "</style>\n",
              "<table border=\"1\" class=\"dataframe\">\n",
              "  <thead>\n",
              "    <tr style=\"text-align: right;\">\n",
              "      <th></th>\n",
              "      <th>dissatisfied</th>\n",
              "    </tr>\n",
              "    <tr>\n",
              "      <th>service_cat</th>\n",
              "      <th></th>\n",
              "    </tr>\n",
              "  </thead>\n",
              "  <tbody>\n",
              "    <tr>\n",
              "      <th>Established</th>\n",
              "      <td>0.516129</td>\n",
              "    </tr>\n",
              "    <tr>\n",
              "      <th>Experienced</th>\n",
              "      <td>0.343023</td>\n",
              "    </tr>\n",
              "    <tr>\n",
              "      <th>New</th>\n",
              "      <td>0.295337</td>\n",
              "    </tr>\n",
              "    <tr>\n",
              "      <th>Veteran</th>\n",
              "      <td>0.485294</td>\n",
              "    </tr>\n",
              "  </tbody>\n",
              "</table>\n",
              "</div>\n",
              "      <button class=\"colab-df-convert\" onclick=\"convertToInteractive('df-1a7afb49-758a-4116-add2-f26aa150c856')\"\n",
              "              title=\"Convert this dataframe to an interactive table.\"\n",
              "              style=\"display:none;\">\n",
              "        \n",
              "  <svg xmlns=\"http://www.w3.org/2000/svg\" height=\"24px\"viewBox=\"0 0 24 24\"\n",
              "       width=\"24px\">\n",
              "    <path d=\"M0 0h24v24H0V0z\" fill=\"none\"/>\n",
              "    <path d=\"M18.56 5.44l.94 2.06.94-2.06 2.06-.94-2.06-.94-.94-2.06-.94 2.06-2.06.94zm-11 1L8.5 8.5l.94-2.06 2.06-.94-2.06-.94L8.5 2.5l-.94 2.06-2.06.94zm10 10l.94 2.06.94-2.06 2.06-.94-2.06-.94-.94-2.06-.94 2.06-2.06.94z\"/><path d=\"M17.41 7.96l-1.37-1.37c-.4-.4-.92-.59-1.43-.59-.52 0-1.04.2-1.43.59L10.3 9.45l-7.72 7.72c-.78.78-.78 2.05 0 2.83L4 21.41c.39.39.9.59 1.41.59.51 0 1.02-.2 1.41-.59l7.78-7.78 2.81-2.81c.8-.78.8-2.07 0-2.86zM5.41 20L4 18.59l7.72-7.72 1.47 1.35L5.41 20z\"/>\n",
              "  </svg>\n",
              "      </button>\n",
              "      \n",
              "  <style>\n",
              "    .colab-df-container {\n",
              "      display:flex;\n",
              "      flex-wrap:wrap;\n",
              "      gap: 12px;\n",
              "    }\n",
              "\n",
              "    .colab-df-convert {\n",
              "      background-color: #E8F0FE;\n",
              "      border: none;\n",
              "      border-radius: 50%;\n",
              "      cursor: pointer;\n",
              "      display: none;\n",
              "      fill: #1967D2;\n",
              "      height: 32px;\n",
              "      padding: 0 0 0 0;\n",
              "      width: 32px;\n",
              "    }\n",
              "\n",
              "    .colab-df-convert:hover {\n",
              "      background-color: #E2EBFA;\n",
              "      box-shadow: 0px 1px 2px rgba(60, 64, 67, 0.3), 0px 1px 3px 1px rgba(60, 64, 67, 0.15);\n",
              "      fill: #174EA6;\n",
              "    }\n",
              "\n",
              "    [theme=dark] .colab-df-convert {\n",
              "      background-color: #3B4455;\n",
              "      fill: #D2E3FC;\n",
              "    }\n",
              "\n",
              "    [theme=dark] .colab-df-convert:hover {\n",
              "      background-color: #434B5C;\n",
              "      box-shadow: 0px 1px 3px 1px rgba(0, 0, 0, 0.15);\n",
              "      filter: drop-shadow(0px 1px 2px rgba(0, 0, 0, 0.3));\n",
              "      fill: #FFFFFF;\n",
              "    }\n",
              "  </style>\n",
              "\n",
              "      <script>\n",
              "        const buttonEl =\n",
              "          document.querySelector('#df-1a7afb49-758a-4116-add2-f26aa150c856 button.colab-df-convert');\n",
              "        buttonEl.style.display =\n",
              "          google.colab.kernel.accessAllowed ? 'block' : 'none';\n",
              "\n",
              "        async function convertToInteractive(key) {\n",
              "          const element = document.querySelector('#df-1a7afb49-758a-4116-add2-f26aa150c856');\n",
              "          const dataTable =\n",
              "            await google.colab.kernel.invokeFunction('convertToInteractive',\n",
              "                                                     [key], {});\n",
              "          if (!dataTable) return;\n",
              "\n",
              "          const docLinkHtml = 'Like what you see? Visit the ' +\n",
              "            '<a target=\"_blank\" href=https://colab.research.google.com/notebooks/data_table.ipynb>data table notebook</a>'\n",
              "            + ' to learn more about interactive tables.';\n",
              "          element.innerHTML = '';\n",
              "          dataTable['output_type'] = 'display_data';\n",
              "          await google.colab.output.renderOutput(dataTable, element);\n",
              "          const docLink = document.createElement('div');\n",
              "          docLink.innerHTML = docLinkHtml;\n",
              "          element.appendChild(docLink);\n",
              "        }\n",
              "      </script>\n",
              "    </div>\n",
              "  </div>\n",
              "  "
            ],
            "text/plain": [
              "             dissatisfied\n",
              "service_cat              \n",
              "Established      0.516129\n",
              "Experienced      0.343023\n",
              "New              0.295337\n",
              "Veteran          0.485294"
            ]
          },
          "metadata": {},
          "execution_count": 46
        }
      ],
      "source": [
        "dissatisfied_resignations = combined_updated.pivot_table(values='dissatisfied', index = 'service_cat')\n",
        "dissatisfied_resignations"
      ]
    },
    {
      "cell_type": "markdown",
      "metadata": {
        "id": "qXhqv332Ichl"
      },
      "source": [
        "Doing a bivariate analysis between service category and dissatisfied employees, I obsreved that 51.6% of the resignations were from employees with more than 7 years in the institute (51.6% from established employees and 48.5% from veteran employees). With this data, *I can infer that people that work in the DETE and TAFE institute become unmotivated with their jobs probably because of the few challenges they are facing.*"
      ]
    },
    {
      "cell_type": "code",
      "execution_count": null,
      "metadata": {
        "colab": {
          "base_uri": "https://localhost:8080/",
          "height": 327
        },
        "id": "1oCGOUaqIchl",
        "outputId": "c4f480f8-ea02-4537-ac8a-1e2ebb52c5af"
      },
      "outputs": [
        {
          "output_type": "execute_result",
          "data": {
            "text/plain": [
              "<matplotlib.axes._subplots.AxesSubplot at 0x7f5d237e6b50>"
            ]
          },
          "metadata": {},
          "execution_count": 47
        },
        {
          "output_type": "display_data",
          "data": {
            "image/png": "[encoded data removed]",
            "text/plain": [
              "<Figure size 432x288 with 1 Axes>"
            ]
          },
          "metadata": {
            "needs_background": "light"
          }
        }
      ],
      "source": [
        "# Calculating the percentage of employees who resigned due to dissatisfaction in each category\n",
        "dis_pct = combined_updated.pivot_table(index='service_cat', values='dissatisfied')\n",
        "\n",
        "# Plot the results\n",
        "%matplotlib inline\n",
        "dis_pct.plot(kind='bar', rot=30)"
      ]
    },
    {
      "cell_type": "markdown",
      "metadata": {
        "id": "DKINNVfBIchl"
      },
      "source": [
        "## Deeper analysis by incorporating the age column\n",
        "By dissecting the age column, we can analyze more in-depth the demographic of people that left and to answer the question: __Did more employees in the DETE survey or TAFE survey end their employment because they were dissatisfied in some way?__"
      ]
    },
    {
      "cell_type": "code",
      "execution_count": null,
      "metadata": {
        "colab": {
          "base_uri": "https://localhost:8080/"
        },
        "id": "K_nLIYzsIchl",
        "outputId": "b086d631-4bce-4bb1-b491-7633affde50e"
      },
      "outputs": [
        {
          "output_type": "execute_result",
          "data": {
            "text/plain": [
              "20 or younger    10\n",
              "21  25           33\n",
              "21-25            26\n",
              "26  30           32\n",
              "26-30            31\n",
              "31  35           32\n",
              "31-35            29\n",
              "36  40           32\n",
              "36-40            36\n",
              "41  45           45\n",
              "41-45            44\n",
              "46  50           39\n",
              "46-50            34\n",
              "51-55            69\n",
              "56 or older      29\n",
              "56-60            22\n",
              "61 or older      18\n",
              "Name: age, dtype: int64"
            ]
          },
          "metadata": {},
          "execution_count": 48
        }
      ],
      "source": [
        "combined_updated['age'].value_counts().sort_index()"
      ]
    },
    {
      "cell_type": "code",
      "execution_count": null,
      "metadata": {
        "colab": {
          "base_uri": "https://localhost:8080/"
        },
        "id": "oUSYms_3Ichm",
        "outputId": "7162dd0f-7983-4c49-e0e3-3a943d62fa9d"
      },
      "outputs": [
        {
          "output_type": "execute_result",
          "data": {
            "text/plain": [
              "20 or younger    10\n",
              "21-25            59\n",
              "26-30            63\n",
              "31-35            61\n",
              "36-40            68\n",
              "41-45            89\n",
              "46-50            73\n",
              "51-55            69\n",
              "56 or older      69\n",
              "NaN              52\n",
              "Name: age, dtype: int64"
            ]
          },
          "metadata": {},
          "execution_count": 49
        }
      ],
      "source": [
        "combined_updated['age'] = combined_updated['age'].str.replace(\"  \",\"-\")\n",
        "\n",
        "def age_cleanup(element):\n",
        "    if element == \"61 or older\": return \"56 or older\"\n",
        "    elif element == \"56-60\": return \"56 or older\"\n",
        "    else: return element\n",
        "\n",
        "combined_updated['age'] = combined_updated['age'].map(age_cleanup)\n",
        "\n",
        "combined_updated['age'].value_counts(dropna=False).sort_index()"
      ]
    },
    {
      "cell_type": "code",
      "execution_count": null,
      "metadata": {
        "colab": {
          "base_uri": "https://localhost:8080/",
          "height": 363
        },
        "id": "CPUOI06oIchm",
        "outputId": "9ee0f365-245a-435f-ed1f-b71bd8a4a631"
      },
      "outputs": [
        {
          "output_type": "display_data",
          "data": {
            "text/html": [
              "\n",
              "  <div id=\"df-8059c981-97d3-435c-b365-d6fc24ba4e50\">\n",
              "    <div class=\"colab-df-container\">\n",
              "      <div>\n",
              "<style scoped>\n",
              "    .dataframe tbody tr th:only-of-type {\n",
              "        vertical-align: middle;\n",
              "    }\n",
              "\n",
              "    .dataframe tbody tr th {\n",
              "        vertical-align: top;\n",
              "    }\n",
              "\n",
              "    .dataframe thead th {\n",
              "        text-align: right;\n",
              "    }\n",
              "</style>\n",
              "<table border=\"1\" class=\"dataframe\">\n",
              "  <thead>\n",
              "    <tr style=\"text-align: right;\">\n",
              "      <th></th>\n",
              "      <th>Total</th>\n",
              "      <th>Dissatisfied</th>\n",
              "      <th>Other reasons</th>\n",
              "      <th>Dissatisfied %</th>\n",
              "      <th>Other reasons %</th>\n",
              "    </tr>\n",
              "    <tr>\n",
              "      <th>Age</th>\n",
              "      <th></th>\n",
              "      <th></th>\n",
              "      <th></th>\n",
              "      <th></th>\n",
              "      <th></th>\n",
              "    </tr>\n",
              "  </thead>\n",
              "  <tbody>\n",
              "    <tr>\n",
              "      <th>20 or younger</th>\n",
              "      <td>10</td>\n",
              "      <td>2</td>\n",
              "      <td>8</td>\n",
              "      <td>0.20</td>\n",
              "      <td>0.80</td>\n",
              "    </tr>\n",
              "    <tr>\n",
              "      <th>21-25</th>\n",
              "      <td>59</td>\n",
              "      <td>17</td>\n",
              "      <td>42</td>\n",
              "      <td>0.29</td>\n",
              "      <td>0.71</td>\n",
              "    </tr>\n",
              "    <tr>\n",
              "      <th>26-30</th>\n",
              "      <td>63</td>\n",
              "      <td>26</td>\n",
              "      <td>37</td>\n",
              "      <td>0.41</td>\n",
              "      <td>0.59</td>\n",
              "    </tr>\n",
              "    <tr>\n",
              "      <th>31-35</th>\n",
              "      <td>61</td>\n",
              "      <td>23</td>\n",
              "      <td>38</td>\n",
              "      <td>0.38</td>\n",
              "      <td>0.62</td>\n",
              "    </tr>\n",
              "    <tr>\n",
              "      <th>36-40</th>\n",
              "      <td>68</td>\n",
              "      <td>24</td>\n",
              "      <td>44</td>\n",
              "      <td>0.35</td>\n",
              "      <td>0.65</td>\n",
              "    </tr>\n",
              "    <tr>\n",
              "      <th>41-45</th>\n",
              "      <td>89</td>\n",
              "      <td>35</td>\n",
              "      <td>54</td>\n",
              "      <td>0.39</td>\n",
              "      <td>0.61</td>\n",
              "    </tr>\n",
              "    <tr>\n",
              "      <th>46-50</th>\n",
              "      <td>73</td>\n",
              "      <td>29</td>\n",
              "      <td>44</td>\n",
              "      <td>0.40</td>\n",
              "      <td>0.60</td>\n",
              "    </tr>\n",
              "    <tr>\n",
              "      <th>51-55</th>\n",
              "      <td>69</td>\n",
              "      <td>29</td>\n",
              "      <td>40</td>\n",
              "      <td>0.42</td>\n",
              "      <td>0.58</td>\n",
              "    </tr>\n",
              "    <tr>\n",
              "      <th>56 or older</th>\n",
              "      <td>69</td>\n",
              "      <td>29</td>\n",
              "      <td>40</td>\n",
              "      <td>0.42</td>\n",
              "      <td>0.58</td>\n",
              "    </tr>\n",
              "  </tbody>\n",
              "</table>\n",
              "</div>\n",
              "      <button class=\"colab-df-convert\" onclick=\"convertToInteractive('df-8059c981-97d3-435c-b365-d6fc24ba4e50')\"\n",
              "              title=\"Convert this dataframe to an interactive table.\"\n",
              "              style=\"display:none;\">\n",
              "        \n",
              "  <svg xmlns=\"http://www.w3.org/2000/svg\" height=\"24px\"viewBox=\"0 0 24 24\"\n",
              "       width=\"24px\">\n",
              "    <path d=\"M0 0h24v24H0V0z\" fill=\"none\"/>\n",
              "    <path d=\"M18.56 5.44l.94 2.06.94-2.06 2.06-.94-2.06-.94-.94-2.06-.94 2.06-2.06.94zm-11 1L8.5 8.5l.94-2.06 2.06-.94-2.06-.94L8.5 2.5l-.94 2.06-2.06.94zm10 10l.94 2.06.94-2.06 2.06-.94-2.06-.94-.94-2.06-.94 2.06-2.06.94z\"/><path d=\"M17.41 7.96l-1.37-1.37c-.4-.4-.92-.59-1.43-.59-.52 0-1.04.2-1.43.59L10.3 9.45l-7.72 7.72c-.78.78-.78 2.05 0 2.83L4 21.41c.39.39.9.59 1.41.59.51 0 1.02-.2 1.41-.59l7.78-7.78 2.81-2.81c.8-.78.8-2.07 0-2.86zM5.41 20L4 18.59l7.72-7.72 1.47 1.35L5.41 20z\"/>\n",
              "  </svg>\n",
              "      </button>\n",
              "      \n",
              "  <style>\n",
              "    .colab-df-container {\n",
              "      display:flex;\n",
              "      flex-wrap:wrap;\n",
              "      gap: 12px;\n",
              "    }\n",
              "\n",
              "    .colab-df-convert {\n",
              "      background-color: #E8F0FE;\n",
              "      border: none;\n",
              "      border-radius: 50%;\n",
              "      cursor: pointer;\n",
              "      display: none;\n",
              "      fill: #1967D2;\n",
              "      height: 32px;\n",
              "      padding: 0 0 0 0;\n",
              "      width: 32px;\n",
              "    }\n",
              "\n",
              "    .colab-df-convert:hover {\n",
              "      background-color: #E2EBFA;\n",
              "      box-shadow: 0px 1px 2px rgba(60, 64, 67, 0.3), 0px 1px 3px 1px rgba(60, 64, 67, 0.15);\n",
              "      fill: #174EA6;\n",
              "    }\n",
              "\n",
              "    [theme=dark] .colab-df-convert {\n",
              "      background-color: #3B4455;\n",
              "      fill: #D2E3FC;\n",
              "    }\n",
              "\n",
              "    [theme=dark] .colab-df-convert:hover {\n",
              "      background-color: #434B5C;\n",
              "      box-shadow: 0px 1px 3px 1px rgba(0, 0, 0, 0.15);\n",
              "      filter: drop-shadow(0px 1px 2px rgba(0, 0, 0, 0.3));\n",
              "      fill: #FFFFFF;\n",
              "    }\n",
              "  </style>\n",
              "\n",
              "      <script>\n",
              "        const buttonEl =\n",
              "          document.querySelector('#df-8059c981-97d3-435c-b365-d6fc24ba4e50 button.colab-df-convert');\n",
              "        buttonEl.style.display =\n",
              "          google.colab.kernel.accessAllowed ? 'block' : 'none';\n",
              "\n",
              "        async function convertToInteractive(key) {\n",
              "          const element = document.querySelector('#df-8059c981-97d3-435c-b365-d6fc24ba4e50');\n",
              "          const dataTable =\n",
              "            await google.colab.kernel.invokeFunction('convertToInteractive',\n",
              "                                                     [key], {});\n",
              "          if (!dataTable) return;\n",
              "\n",
              "          const docLinkHtml = 'Like what you see? Visit the ' +\n",
              "            '<a target=\"_blank\" href=https://colab.research.google.com/notebooks/data_table.ipynb>data table notebook</a>'\n",
              "            + ' to learn more about interactive tables.';\n",
              "          element.innerHTML = '';\n",
              "          dataTable['output_type'] = 'display_data';\n",
              "          await google.colab.output.renderOutput(dataTable, element);\n",
              "          const docLink = document.createElement('div');\n",
              "          docLink.innerHTML = docLinkHtml;\n",
              "          element.appendChild(docLink);\n",
              "        }\n",
              "      </script>\n",
              "    </div>\n",
              "  </div>\n",
              "  "
            ],
            "text/plain": [
              "               Total  Dissatisfied  ...  Dissatisfied %  Other reasons %\n",
              "Age                                 ...                                 \n",
              "20 or younger     10             2  ...            0.20             0.80\n",
              "21-25             59            17  ...            0.29             0.71\n",
              "26-30             63            26  ...            0.41             0.59\n",
              "31-35             61            23  ...            0.38             0.62\n",
              "36-40             68            24  ...            0.35             0.65\n",
              "41-45             89            35  ...            0.39             0.61\n",
              "46-50             73            29  ...            0.40             0.60\n",
              "51-55             69            29  ...            0.42             0.58\n",
              "56 or older       69            29  ...            0.42             0.58\n",
              "\n",
              "[9 rows x 5 columns]"
            ]
          },
          "metadata": {}
        }
      ],
      "source": [
        "# Incorporating the age column into the dissatisfaction dataframe\n",
        "combined_up_dis = combined_updated.loc[combined_updated['dissatisfied']==True,]\n",
        "\n",
        "df_Age = combined_updated['age'].value_counts().sort_index().to_frame(name='Total')\n",
        "df_Age['Dissatisfied'] = combined_up_dis['age'].value_counts().sort_index()\n",
        "df_Age['Other reasons'] = df_Age['Total'] - df_Age['Dissatisfied']\n",
        "df_Age['Dissatisfied %'] = round(df_Age['Dissatisfied'] / df_Age['Total'],2)\n",
        "df_Age['Other reasons %'] = round(df_Age['Other reasons'] / df_Age['Total'],2)\n",
        "df_Age.index.name = 'Age'                                                           \n",
        "display(df_Age)"
      ]
    },
    {
      "cell_type": "code",
      "execution_count": null,
      "metadata": {
        "colab": {
          "base_uri": "https://localhost:8080/",
          "height": 357
        },
        "id": "M2V0rxlcIchm",
        "outputId": "d8beaa97-bd33-47c7-e2c4-984852b643cd"
      },
      "outputs": [
        {
          "output_type": "execute_result",
          "data": {
            "text/plain": [
              "<matplotlib.axes._subplots.AxesSubplot at 0x7f5d232b3250>"
            ]
          },
          "metadata": {},
          "execution_count": 51
        },
        {
          "output_type": "display_data",
          "data": {
            "image/png": "[encoded data removed]",
            "text/plain": [
              "<Figure size 432x288 with 1 Axes>"
            ]
          },
          "metadata": {
            "needs_background": "light"
          }
        }
      ],
      "source": [
        "df_Age['Dissatisfied %'].plot(kind='bar')"
      ]
    },
    {
      "cell_type": "markdown",
      "metadata": {
        "id": "7fajEbE9Ichm"
      },
      "source": [
        "The dissatisfaction distribution by age also seems to suggest that older people tend to renounce due to dissatisfaction more than younger people. The exception in the 26-30 group of people who also have high percentage of dissatisfied employees"
      ]
    }
  ],
  "metadata": {
    "kernelspec": {
      "display_name": "Python 3",
      "language": "python",
      "name": "python3"
    },
    "language_info": {
      "codemirror_mode": {
        "name": "ipython",
        "version": 3
      },
      "file_extension": ".py",
      "mimetype": "text/x-python",
      "name": "python",
      "nbconvert_exporter": "python",
      "pygments_lexer": "ipython3",
      "version": "3.8.2"
    },
    "colab": {
      "name": "(Project) cleaning and analysing Australian employee existing survey.ipynb",
      "provenance": []
    }
  },
  "nbformat": 4,
  "nbformat_minor": 0
}